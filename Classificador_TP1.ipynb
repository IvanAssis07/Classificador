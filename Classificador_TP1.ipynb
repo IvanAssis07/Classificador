{
  "cells": [
    {
      "cell_type": "markdown",
      "metadata": {
        "id": "WzmNT_e0_8H3"
      },
      "source": [
        "\n",
        "# Trabalho Prático de Algorítmos 2\n",
        "\n",
        "\n"
      ]
    },
    {
      "cell_type": "markdown",
      "metadata": {
        "id": "LNuYuROtATxW"
      },
      "source": [
        "**Membros integrantes do grupo:**\n",
        "\n",
        ">-Caio Teles Cunha - 2020006434 \n",
        "\n",
        ">-Ivan - 2021421931\n",
        "\n",
        ">-Henrique Rotsen Santos Ferreira - 2020100945"
      ]
    },
    {
      "cell_type": "markdown",
      "metadata": {
        "id": "bsKrXOgSBEhk"
      },
      "source": [
        "# **Introdução**"
      ]
    },
    {
      "cell_type": "markdown",
      "metadata": {
        "id": "wbMAk83lBxfl"
      },
      "source": [
        "  Nesse trabalho foi solicitado a implementação um algoritmo para criar modelos de classificação em aprendizado supervisionado. O modelo de classificação solicitado deverá ajustar modelos lineares para os dados e fará uso de diversos algoritmos de geometria computacional vistos em sala de aula.\n"
      ]
    },
    {
      "cell_type": "markdown",
      "metadata": {
        "id": "UvWtlpjFDesk"
      },
      "source": [
        "# **Verificação de separabilidade linear dos dados**"
      ]
    },
    {
      "cell_type": "markdown",
      "metadata": {
        "id": "IQrlF6cKEOMc"
      },
      "source": [
        "Primeiramente, deve-se verificar a separabilidade linear dos dados. Nesse trabalho nossas amostras serão pontos no plano cartesiano, ou seja, duas variáveis descrevem as amostras. Para isso precisamos calcular as envoltórias convexas de cada classe, também assumiremos que os dados possuem apenas dois rótulos, e posteriormente verificar se existe sobreposição dessas envoltórias. Caso não haja sobreposição, os dados são linearmente separáveis."
      ]
    },
    {
      "cell_type": "markdown",
      "metadata": {
        "id": "GbiSn5EAEttN"
      },
      "source": [
        "# **Criação da função que computa as envoltárias convexas**"
      ]
    },
    {
      "cell_type": "markdown",
      "metadata": {
        "id": "WB14DCeuKkrz"
      },
      "source": [
        "> Escolhemos fazer o algoritmo da envoltória de Graham. Primeiramente, ordenamos o vetor de pontos em relação ao y e, em caso de empate, utilizamos o x. O motivo dessa ordenação está em encontrar o ponto com o menor y e mais à esquerda, pois esse ponto com certeza pertence à envoltória. Então escolhemos esse ponto como âncora e fazemos uma nova ordenação dos pontos em relação a ele, usando as primitivas vistas em sala, de modo à ordenar os pontos em sentido anti-horário em relação ao âncora.\n",
        "\n",
        "> Então, a partir do âncora, percorremos o vetor de pontos verificando se existe uma curva para a direita ou para a esquerda, atráves do produto vetorial, a cada ponto inserido e definimos dessa forma se o ponto faz ou não parte da envoltória."
      ]
    },
    {
      "cell_type": "code",
      "execution_count": 232,
      "metadata": {
        "colab": {
          "base_uri": "https://localhost:8080/"
        },
        "id": "yQcK2cRkWV2v",
        "outputId": "e7d1a2a7-e0e9-4b40-8f0a-e972a05ab8f8"
      },
      "outputs": [
        {
          "name": "stdout",
          "output_type": "stream",
          "text": [
            "Requirement already satisfied: pytrees in /home/ivan/.local/lib/python3.8/site-packages (0.0.1)\n"
          ]
        }
      ],
      "source": [
        "# Importando bibliotecas.\n",
        "import matplotlib.pyplot as plt\n",
        "import random\n",
        "import numpy as np\n",
        "import sys\n",
        "import math   \n",
        "import pandas as pd\n",
        "from itertools import combinations\n",
        "from functools import cmp_to_key\n",
        "!pip install pytrees\n",
        "from pytrees import AVLTree"
      ]
    },
    {
      "cell_type": "code",
      "execution_count": 233,
      "metadata": {
        "id": "lzCeZy22tsIM"
      },
      "outputs": [],
      "source": [
        "# Algumas definicoes para melhor visualizacao dos dados\n",
        "\n",
        "plt.rcParams['figure.figsize'] = (16, 10)\n",
        "\n",
        "plt.rcParams['axes.axisbelow'] = True \n",
        "plt.rcParams['axes.grid'] = True\n",
        "plt.rcParams['axes.labelsize'] = 16\n",
        "plt.rcParams['axes.linewidth'] = 2\n",
        "plt.rcParams['axes.spines.bottom'] = True\n",
        "plt.rcParams['axes.spines.left'] = True\n",
        "plt.rcParams['axes.titlesize'] = 16\n",
        "plt.rcParams['axes.ymargin'] = 0.1\n",
        "\n",
        "plt.rcParams['font.family'] = 'serif'\n",
        "\n",
        "plt.rcParams['grid.color'] = 'lightgrey'\n",
        "plt.rcParams['grid.linewidth'] = .1\n",
        "\n",
        "plt.rcParams['xtick.bottom'] = True\n",
        "plt.rcParams['xtick.direction'] = 'out' \n",
        "plt.rcParams['xtick.labelsize'] = 16\n",
        "plt.rcParams['xtick.major.size'] = 12\n",
        "plt.rcParams['xtick.major.width'] = 1\n",
        "plt.rcParams['xtick.minor.size'] = 6\n",
        "plt.rcParams['xtick.minor.width'] = 1\n",
        "plt.rcParams['xtick.minor.visible'] = True\n",
        "\n",
        "plt.rcParams['ytick.direction'] = 'out'\n",
        "plt.rcParams['ytick.labelsize'] = 16\n",
        "plt.rcParams['ytick.left'] = True\n",
        "plt.rcParams['ytick.major.size'] = 12\n",
        "plt.rcParams['ytick.major.width'] = 1\n",
        "plt.rcParams['ytick.minor.size'] = 6\n",
        "plt.rcParams['ytick.minor.width'] = 1\n",
        "plt.rcParams['ytick.minor.visible'] = True\n",
        "\n",
        "plt.rcParams['legend.fontsize'] = 16\n",
        "\n",
        "plt.rcParams['lines.linewidth'] = 4\n",
        "plt.rcParams['lines.markersize'] = 4\n",
        "\n",
        "plt.style.use('tableau-colorblind10')\n",
        "plt.ion();"
      ]
    },
    {
      "cell_type": "markdown",
      "metadata": {
        "id": "tBgAT91Oz7fN"
      },
      "source": [
        "**Definição das classes `Ponto` e `Segmento`**."
      ]
    },
    {
      "cell_type": "code",
      "execution_count": 234,
      "metadata": {
        "id": "SRakHq-eaDsn"
      },
      "outputs": [],
      "source": [
        "# Primeiramente definimos a classe Ponto\n",
        "class Ponto:\n",
        "  def __init__(self,x,y):\n",
        "    self.x = x\n",
        "    self.y = y\n",
        "\n",
        "  def __sub__(self,b):\n",
        "    x = self.x - b.x\n",
        "    y = self.y - b.y\n",
        "    return Ponto(x,y)\n",
        "\n",
        "  def __repr__(self): \n",
        "    return \"(% s, % s)\" % (self.x, self.y)\n",
        "\n",
        "  # Aqui sobrecarregamos o operador de < para funcionar para pontos\n",
        "  def __lt__(self, other):\n",
        "    if self.y < other.y:\n",
        "      return True\n",
        "\n",
        "    if self.y == other.y and self.x < other.x:\n",
        "      return True\n",
        "      \n",
        "    return False\n",
        "\n",
        "class Segmento:\n",
        "    def __init__(self, pontoEsquerdo, pontoDireito, poligonoID):\n",
        "        self.pontoEsquerdo = pontoEsquerdo\n",
        "        self.pontoDireito = pontoDireito\n",
        "        a = (pontoDireito.y - pontoEsquerdo.y)/(pontoDireito.x - pontoEsquerdo.x)\n",
        "        b = (pontoEsquerdo.y - a * pontoEsquerdo.x)\n",
        "        # a -> coeficiente angular, b -> coeficiente linear\n",
        "        self.chave = (a, b)\n",
        "        # 0 representa um polígono, 1 representa o outro\n",
        "        self.poligonoID = poligonoID \n",
        "\n",
        "    def __repr__(self): \n",
        "        return \"(% s, % s, % s)\" % (self.pontoEsquerdo, self.pontoDireito,self.chave)"
      ]
    },
    {
      "cell_type": "markdown",
      "metadata": {
        "id": "9up76dzc0jA_"
      },
      "source": [
        "**Criamos um vetor de pontos aleatórios para os testes.**"
      ]
    },
    {
      "cell_type": "code",
      "execution_count": 235,
      "metadata": {
        "id": "LeGmoAqCK1fO"
      },
      "outputs": [],
      "source": [
        "def geraPts(x0, x1, y0, y1, n):\n",
        "  pVec = []\n",
        "  for x in range(n):\n",
        "    m = random.randint(x0,x1)\n",
        "    n = random.randint(y0,y1)\n",
        "    \n",
        "    a = Ponto(m,n)\n",
        "    pVec.append(a)\n",
        "  return pVec"
      ]
    },
    {
      "cell_type": "code",
      "execution_count": 236,
      "metadata": {
        "id": "S1Z_h7zWukKs"
      },
      "outputs": [],
      "source": [
        "pVec = geraPts(-50, -10, -50, -10, 100)"
      ]
    },
    {
      "cell_type": "markdown",
      "metadata": {
        "id": "iUZIvFr1ylq-"
      },
      "source": [
        "**Visualizando os pontos**"
      ]
    },
    {
      "cell_type": "code",
      "execution_count": 237,
      "metadata": {
        "colab": {
          "base_uri": "https://localhost:8080/",
          "height": 607
        },
        "id": "AyucfkKPblip",
        "outputId": "bf32f32c-bc1c-449b-8fd6-d8575b5cda71"
      },
      "outputs": [
        {
          "data": {
            "image/png": "[encoded data removed]",
            "text/plain": [
              "<Figure size 1152x720 with 1 Axes>"
            ]
          },
          "metadata": {
            "needs_background": "light"
          },
          "output_type": "display_data"
        }
      ],
      "source": [
        "# Plotamos todos os pontos\n",
        "for x in pVec:\n",
        "  plt.scatter(x.x,x.y)"
      ]
    },
    {
      "cell_type": "markdown",
      "metadata": {
        "id": "fRyEp_0oyN6l"
      },
      "source": [
        ">`pVec[0]` sempre terá o valor de menor y mais a esquerda, após a ordenação usando a função sort do python no vetor de pontos. Como provado em sala, esse ponto sempre pertence à envoltória, então escolheremos ele como âncora para o algoritmo."
      ]
    },
    {
      "cell_type": "markdown",
      "metadata": {
        "id": "Ev9uJ--Ax-Sx"
      },
      "source": [
        "**Algoritimo de Graham**"
      ]
    },
    {
      "cell_type": "code",
      "execution_count": 238,
      "metadata": {
        "id": "-K-vsSmEST0N"
      },
      "outputs": [],
      "source": [
        "# Função auxiliar para quando existirem pontos colineares saber qual escolher\n",
        "def distSq(p1, p2):\n",
        "    return ((p1.x - p2.x) * (p1.x - p2.x) + (p1.y - p2.y) * (p1.y - p2.y))\n",
        "\n",
        "# Testa se existe e qual é a curva entre os vetores formados pelo ancora e os pontos\n",
        "def direcaoSeg(p, p1, p2):\n",
        "  val = ((p1.y - p.y) * (p2.x - p1.x) -\n",
        "        (p1.x - p.x) * (p2.y - p1.y))\n",
        "  if val == 0:\n",
        "      return 0  # colineares\n",
        "  elif val > 0:\n",
        "      return 1  # sentido horario\n",
        "  else:\n",
        "      return 2  # sentido anti-horario\n",
        "\n",
        "def EnvoltoriaDeGrahm(points, n):\n",
        "\n",
        "    points.sort()\n",
        "    # Definimos o âncora\n",
        "    Ancora = points[0]\n",
        "    PontosEnvoltoria = []\n",
        "\n",
        "    # Função de comparação para ordenação dos pontos\n",
        "    def Compara(p1,p2):\n",
        "      curva = direcaoSeg(Ancora,p1,p2)\n",
        "      if curva == 0:\n",
        "        if distSq(Ancora,p2) >= distSq(Ancora,p1):\n",
        "          return -1\n",
        "        else:\n",
        "          return 1\n",
        "      else:\n",
        "        if curva == 2:\n",
        "          return -1\n",
        "        else:\n",
        "          return 1\n",
        "\n",
        "\n",
        "    # Ordenar pelo angulo polar\n",
        "    points = sorted(points, key=cmp_to_key(Compara))\n",
        "\n",
        "    # Remover pontos colineares menos distantes \n",
        "    m = 1 \n",
        "    for i in range(1, n):\n",
        "        while ((i < n-1) and (direcaoSeg(Ancora, points[i], points[i + 1]) == 0)):\n",
        "            i += 1\n",
        "        points[m] = points[i]\n",
        "        m += 1 \n",
        "   \n",
        "    PontosEnvoltoria = []\n",
        "    PontosEnvoltoria.append(points[0])\n",
        "    PontosEnvoltoria.append(points[1])\n",
        "    PontosEnvoltoria.append(points[2])\n",
        " \n",
        "    for i in range(3, m):\n",
        "        while ((len(PontosEnvoltoria) > 1) and (direcaoSeg(PontosEnvoltoria[-2], PontosEnvoltoria[-1], points[i]) != 2)):\n",
        "            PontosEnvoltoria.pop()\n",
        "        PontosEnvoltoria.append(points[i])\n",
        " \n",
        "    return PontosEnvoltoria"
      ]
    },
    {
      "cell_type": "markdown",
      "metadata": {
        "id": "eQmt1hgsxxDT"
      },
      "source": [
        "**Função para construir os segmentos das nossas envoltórias**"
      ]
    },
    {
      "cell_type": "code",
      "execution_count": 239,
      "metadata": {
        "id": "7A7mwSMxxvyT"
      },
      "outputs": [],
      "source": [
        "def construtorSeg(pontos, poligonoID):\n",
        "  seg = []\n",
        "  for i in range(len(pontos)):\n",
        "    if i+1 < len(pontos):  \n",
        "        if pontos[i].x ==  pontos[i+1].x:\n",
        "            pontos[i].x += 0.0001\n",
        "            seg.append(Segmento(pontos[i], pontos[i+1], poligonoID))\n",
        "        else:\n",
        "            seg.append(Segmento(pontos[i], pontos[i+1], poligonoID))\n",
        "    else:\n",
        "        if pontos[i].x ==  pontos[0].x:\n",
        "            pontos[i].x += 0.0001\n",
        "            seg.append(Segmento(pontos[0], pontos[i], poligonoID))\n",
        "        else:\n",
        "            seg.append(Segmento(pontos[0], pontos[i], poligonoID))\n",
        "  return seg"
      ]
    },
    {
      "cell_type": "markdown",
      "metadata": {
        "id": "HnNmk4nrwSSF"
      },
      "source": [
        "## Para visualizar a Envoltória\n",
        "\n",
        "O valor do *Âncora* deve sempre ser o `pVec[0]`, para cada envoltória."
      ]
    },
    {
      "cell_type": "code",
      "execution_count": 240,
      "metadata": {
        "id": "YcptYcPn9AIM"
      },
      "outputs": [],
      "source": [
        "n = len(pVec)"
      ]
    },
    {
      "cell_type": "code",
      "execution_count": 241,
      "metadata": {
        "colab": {
          "base_uri": "https://localhost:8080/"
        },
        "id": "DCj-4mYmwGxs",
        "outputId": "aa7a6b13-44c2-4c22-f866-2c02b36902d5"
      },
      "outputs": [],
      "source": [
        "env1 = EnvoltoriaDeGrahm(pVec, n)"
      ]
    },
    {
      "cell_type": "code",
      "execution_count": 242,
      "metadata": {
        "colab": {
          "base_uri": "https://localhost:8080/",
          "height": 54
        },
        "id": "j0YP9QfUwK3H",
        "outputId": "5984365e-08f4-45c8-a5ce-f4a61fb6b20b"
      },
      "outputs": [
        {
          "data": {
            "image/png": "[encoded data removed]",
            "text/plain": [
              "<Figure size 1152x720 with 1 Axes>"
            ]
          },
          "metadata": {
            "needs_background": "light"
          },
          "output_type": "display_data"
        }
      ],
      "source": [
        "for x in env1:\n",
        "  plt.scatter(x.x, x.y)"
      ]
    },
    {
      "cell_type": "markdown",
      "metadata": {
        "id": "sCcqKyfh1Udt"
      },
      "source": [
        "**Gerando os segmentos que compõem a nossa Envoltória**"
      ]
    },
    {
      "cell_type": "code",
      "execution_count": 243,
      "metadata": {
        "id": "K8veUSIW1UC7"
      },
      "outputs": [],
      "source": [
        "Seg1 = construtorSeg(env1, 0)"
      ]
    },
    {
      "cell_type": "code",
      "execution_count": 244,
      "metadata": {
        "colab": {
          "base_uri": "https://localhost:8080/",
          "height": 54
        },
        "id": "7mBuHgXm3hHI",
        "outputId": "82edde35-ec76-4a75-a697-f412fe4dbdf4"
      },
      "outputs": [
        {
          "data": {
            "image/png": "[encoded data removed]",
            "text/plain": [
              "<Figure size 1152x720 with 1 Axes>"
            ]
          },
          "metadata": {
            "needs_background": "light"
          },
          "output_type": "display_data"
        }
      ],
      "source": [
        "figurefig, ax = plt.subplots()\n",
        "\n",
        "xSeg1 = []\n",
        "ySeg1 = []\n",
        "for x in Seg1:\n",
        "  xSeg1.append(x.pontoEsquerdo.x)\n",
        "  ySeg1.append(x.pontoEsquerdo.y)\n",
        "\n",
        "xSeg1.append(Seg1[0].pontoEsquerdo.x)\n",
        "ySeg1.append(Seg1[0].pontoEsquerdo.y)\n",
        "\n",
        "ax.plot(xSeg1, ySeg1, '-')\n",
        "plt.show()"
      ]
    },
    {
      "cell_type": "markdown",
      "metadata": {
        "id": "8xk8gdg_yf1B"
      },
      "source": [
        "# **Checando se uma envoltória está dentro da outra**\n",
        "\n",
        " A primeira checagem que fazemos para verificar a separabilidade linear dos dados é conferir se uma envoltória está interna a outra, caso isto ocorra temos dados que não separáveis. Se não estiverem contidas uma na outra, executamos a varradura para captar possíveis interseções."
      ]
    },
    {
      "cell_type": "markdown",
      "metadata": {
        "id": "YxkqMsfsvUF2"
      },
      "source": [
        "# **Varredura Linear**"
      ]
    },
    {
      "cell_type": "markdown",
      "metadata": {
        "id": "aU92KI8-jQvx"
      },
      "source": [
        "### Funções auxiliares\n"
      ]
    },
    {
      "cell_type": "code",
      "execution_count": 245,
      "metadata": {
        "id": "GEkOiIqK6nRd"
      },
      "outputs": [],
      "source": [
        "# Checa se o ponto 1 está dentro do segmento dado por ponto1 e ponto3\n",
        "def pontoNoSegmento(ponto1, ponto2, ponto3):\n",
        "    if ((ponto2.x) <= max(ponto1.x, ponto3.x) and (ponto2.x) >= min(ponto1.x, ponto3.x) and\n",
        "            (ponto2.y) <= max(ponto1.y, ponto3.y) and (ponto2.y) >= min(ponto1.y, ponto3.y)):\n",
        "        return True\n",
        "    return False\n",
        "\n",
        "def intersecaoSeg(seg1,seg2):\n",
        "    # Condição para impedir a checagem de interseção de segmentos do mesmo polígono\n",
        "    if seg1.poligonoID == seg2.poligonoID:\n",
        "        return False\n",
        "\n",
        "    ponto1 = seg1.pontoEsquerdo\n",
        "    ponto2 = seg1.pontoDireito\n",
        "    ponto3 = seg2.pontoEsquerdo\n",
        "    ponto4 = seg2.pontoDireito\n",
        "\n",
        "    d1 = direcaoSeg(ponto3, ponto4, ponto1)\n",
        "    d2 = direcaoSeg(ponto3, ponto4, ponto2)\n",
        "    d3 = direcaoSeg(ponto1, ponto2, ponto3)\n",
        "    d4 = direcaoSeg(ponto1, ponto2, ponto4)\n",
        "\n",
        "    if ((d1 != d2 and d3 != d4)):\n",
        "        return True\n",
        "\n",
        "    # Casos onde um segmento tem um de seus pontos finais no outro\n",
        "    if (d1 == 0 and pontoNoSegmento(ponto3, ponto1, ponto4)):\n",
        "        return True\n",
        "\n",
        "    if (d2 == 0 and pontoNoSegmento(ponto3, ponto2, ponto4)):\n",
        "        return True\n",
        "\n",
        "    if (d3 == 0 and pontoNoSegmento(ponto1, ponto3, ponto2)):\n",
        "        return True\n",
        "\n",
        "    if (d4 == 0 and pontoNoSegmento(ponto1, ponto4, ponto2)):\n",
        "        return True\n",
        "\n",
        "    return False"
      ]
    },
    {
      "cell_type": "markdown",
      "metadata": {
        "id": "SrThn50B7fc8"
      },
      "source": [
        "Utilizaremos a varredura para checar se duas envoltórias se interceptam e checar sua separabilidade.\n",
        "\n",
        "Inicialmente implementamos 2 funções, a principal delas checa se 2 segmentos se interceptam, nela utilizamos uma outra que confere se um dos pontos finais de um segmento está contido no outro e também a função definida anteriormente de ver a orientação de um ponto em relação a um segmento. "
      ]
    },
    {
      "cell_type": "code",
      "execution_count": 246,
      "metadata": {
        "id": "S572QDIDyd2Q"
      },
      "outputs": [],
      "source": [
        "def envDentroEnv(seg1, seg2):\n",
        "    intersecoes = 0\n",
        "\n",
        "    if (seg1[0].pontoEsquerdo > seg2[0].pontoEsquerdo):\n",
        "        # Traçar uma reta de um ponto ao infinito e contar interseções\n",
        "        for n in range(len(seg2)):\n",
        "            if (intersecaoSeg(Segmento(seg1[0].pontoEsquerdo, Ponto(sys.maxsize, seg1[0].pontoEsquerdo.y ), 1), seg2[n])):\n",
        "                intersecoes += 1\n",
        "    else:\n",
        "        # Traçar uma reta de um ponto ao infinito e contar interseções\n",
        "        for n in range(len(seg1)):\n",
        "            if (intersecaoSeg(Segmento(seg2[0].pontoEsquerdo, Ponto(sys.maxsize, seg2[0].pontoEsquerdo.y ), 1), seg1[n])):\n",
        "                intersecoes += 1\n",
        "\n",
        "    # Se tiver um número par de interseções está fora, ímpar está dentro\n",
        "    if (intersecoes % 2 == 0):\n",
        "        return False\n",
        "    else:\n",
        "        return True"
      ]
    },
    {
      "cell_type": "markdown",
      "metadata": {
        "id": "l6yqX-KzjV56"
      },
      "source": [
        "### Classes necessárias"
      ]
    },
    {
      "cell_type": "markdown",
      "metadata": {
        "id": "WlXo6RvLDB4I"
      },
      "source": [
        "Precisamos criar a classe Evento que conterá todos os pontos terminais dos segmentos (pontos de início e de fim). Nela fazemas uma sobrecarga de operador para que possamos ordenar seus elementos priorizando a coordenada x dos pontos e usando a o fato de ser ponto de início e o valor de y como desempate.\n",
        "\n",
        "Na implementação da varredura, utilizamos uma árvore AVL para armazenar os segmentos, pertencente a biblioteca *pytrees*. Mas foi necessário definir uma nova classe nó que tivesse 2 elementos a coordenada x no momento de inserção e também o segmento inserido. \n",
        "\n",
        "Nela realizamos sobrecargas para fazer com que as operações realizadas na árvore sejam feitas com y do segmento, o qual é obtido com a tupla de coeficientes que todo Segmento possui, com base no x atual da reta de varredura no momento da operação. Isto é um dos fatores fundamentais para este algoritmo, pois garante que a posição dos segmentos sofra alterações enquanto a reta de varredura prossegue no plano."
      ]
    },
    {
      "cell_type": "code",
      "execution_count": 247,
      "metadata": {
        "id": "tU5Ovdgw6vd1"
      },
      "outputs": [],
      "source": [
        "class Evento:\n",
        "    def __init__(self, x, y, pontoInicial, index):\n",
        "        self.x = x \n",
        "        self.y = y \n",
        "        # Booleano que indica se é um ponto de início ou final\n",
        "        self.pontoInicial = pontoInicial\n",
        "        # Variável auxiliar para ajudar na busca na árvore de eventos\n",
        "        self.index = index\n",
        "\n",
        "    def __lt__(self, other):\n",
        "        if (self.x < other.x):\n",
        "            return True\n",
        "\n",
        "        if (self.x == other.x):\n",
        "            if self.pontoInicial == True and other.pontoInicial == False:\n",
        "                return True\n",
        "            if self.pontoInicial == False and other.pontoInicial == True:\n",
        "                return False\n",
        "            else:\n",
        "                return self.y < other.y\n",
        "\n",
        "        if (self.x > other.x): \n",
        "            return False\n",
        "        else:\n",
        "            return self.y > other.y\n",
        "\n",
        "class Nodo:\n",
        "    def __init__(self, x, segmento):\n",
        "        # Adicionamos um pequeno valor para tratar segmentos com igual ponto de início\n",
        "        self.x = x + 0.000001 \n",
        "        self.segmento = segmento\n",
        "    \n",
        "    def __lt__(self, other):\n",
        "        return ((self.segmento.chave[0] * self.x) + self.segmento.chave[1]) < ((other.segmento.chave[0] * other.x) + other.segmento.chave[1])\n",
        "    \n",
        "    def __le__(self, other):\n",
        "        return ((self.segmento.chave[0] * self.x) + self.segmento.chave[1]) <= ((other.segmento.chave[0] * other.x) + other.segmento.chave[1])\n",
        "    \n",
        "    def __eq__(self,other):\n",
        "        if self.segmento.chave[0] == other.segmento.chave[0] and self.segmento.chave[1] == other.segmento.chave[1]:\n",
        "            return True\n",
        "\n",
        "    def __gt__(self, other):\n",
        "       return ((self.segmento.chave[0] * self.x) + self.segmento.chave[1]) > ((other.segmento.chave[0] * other.x) + other.segmento.chave[1])\n",
        "\n",
        "    def __ge__(self, other):\n",
        "        return ((self.segmento.chave[0] * self.x) + self.segmento.chave[1]) >= ((other.segmento.chave[0] * other.x) + other.segmento.chave[1])"
      ]
    },
    {
      "cell_type": "markdown",
      "metadata": {
        "id": "VHoc4V4djYjc"
      },
      "source": [
        "### Função de varredura de seguimentos"
      ]
    },
    {
      "cell_type": "markdown",
      "metadata": {
        "id": "J-4OnQN6Hz8q"
      },
      "source": [
        "Agora podemos partir para o algoritmo da varredura em si. Utilizamos duas estruturas para ele: uma árvore AVL (importada da biblioteca *pytree*) que armazena o conjunto de seguimentos \"ativos\" e de uma lista para armazenar todos os eventos de forma ordenada para que possamos varrê-los da esquerda para direita. \n",
        "\n",
        "Ele utiliza duas funções auxiliares que percorrem a árvore para encontrar os segmentos consecutivos de um segmento e, assim, poder checar se eles se interceptam. Estas são chamadas em todo evento que ocorre, retornando True caso eles se interceptem e terminando o algoritmo.\n",
        "\n",
        "O algoritmo recebe duas listas de segmentos que representam duas envoltórias que representam 2 conjuntos de dados e checa interseções entre elas. No nosso contexto, no caso de haver esse encontro de envoltórias concluímos que estes dados não são linearmente separáveis, se não houver eles são."
      ]
    },
    {
      "cell_type": "code",
      "execution_count": 248,
      "metadata": {
        "id": "WpayRDqm63J3"
      },
      "outputs": [],
      "source": [
        "# Busca o vizinho superior do segmento atual\n",
        "def acima(arvore, nodo): \n",
        "    nodo = arvore.search(nodo)\n",
        "    if (nodo == None):\n",
        "        return None\n",
        "    nodoPai = nodo.parent\n",
        "\n",
        "    if(nodo.right != None):\n",
        "        return nodo.right\n",
        "    else:\n",
        "        if(nodo.parent != None and nodo.parent.left == nodo):\n",
        "            return nodo.parent\n",
        "\n",
        "        while(nodoPai != None):\n",
        "            if (nodoPai.val > nodo.val):\n",
        "                return nodoPai\n",
        "            else:\n",
        "                nodoPai = nodoPai.parent\n",
        "        return None\n",
        "\n",
        "# Busca o vizinho inferior do segmento atual\n",
        "def abaixo(arvore, nodo):\n",
        "    nodo = arvore.search(nodo)\n",
        "    if (nodo == None):\n",
        "        return None\n",
        "    nodoPai = nodo.parent\n",
        "\n",
        "    if(nodo == None): \n",
        "        return nodo\n",
        "\n",
        "    if(nodo.left != None):\n",
        "        return nodo.left\n",
        "    else:\n",
        "        if(nodo.parent != None and nodo.parent.right == nodo):\n",
        "            return nodo.parent\n",
        "\n",
        "        while(nodoPai != None):\n",
        "            if (nodoPai.val < nodo.val):\n",
        "                return nodoPai\n",
        "            else:\n",
        "                nodoPai = nodoPai.parent\n",
        "        return None\n",
        "\n",
        "\n",
        "def varreduraSeg(seg1, seg2):\n",
        "    segmentos = seg1 + seg2\n",
        "    eventos = []\n",
        "    \n",
        "    # Inserindo os pontos terminais(eventos) de todos os seguimentos\n",
        "    for n in range(len(segmentos)):\n",
        "        eventos.append(Evento(segmentos[n].pontoEsquerdo.x, segmentos[n].pontoEsquerdo.y, True, n))\n",
        "        eventos.append(Evento(segmentos[n].pontoDireito.x, segmentos[n].pontoDireito.y, False, n))\n",
        "    \n",
        "    eventos.sort()\n",
        "    arvore = AVLTree()\n",
        "\n",
        "    for p in eventos:\n",
        "        if p.pontoInicial == True:\n",
        "            arvore.insert(Nodo(p.x, segmentos[p.index]))\n",
        "            nodoAcima = acima(arvore, Nodo(p.x, segmentos[p.index]))\n",
        "            nodoAbaixo = abaixo(arvore, Nodo(p.x, segmentos[p.index]))\n",
        "\n",
        "            # Checando intercessão entre os segmentos adjacentes ao inserido\n",
        "            if((nodoAcima != None and intersecaoSeg(segmentos[p.index], nodoAcima.val.segmento))\n",
        "                or nodoAbaixo != None and intersecaoSeg(segmentos[p.index], nodoAbaixo.val.segmento)):\n",
        "                return True\n",
        "\n",
        "        if p.pontoInicial == False:\n",
        "            nodoAcima = acima(arvore, Nodo(p.x, segmentos[p.index]))\n",
        "            nodoAbaixo = abaixo(arvore, Nodo(p.x, segmentos[p.index]))\n",
        "\n",
        "            # Checando intercessão entre os segmentos que tornaram-se vizinho após a remoção\n",
        "            if(nodoAcima != None and nodoAbaixo != None and intersecaoSeg(nodoAcima.val.segmento, nodoAbaixo.val.segmento)):\n",
        "                return True\n",
        "\n",
        "            arvore.delete(Nodo(p.x, segmentos[p.index]))\n",
        "\n",
        "    return False"
      ]
    },
    {
      "cell_type": "markdown",
      "metadata": {
        "id": "cwKT1HF-wtLs"
      },
      "source": [
        "# **Classificador**"
      ]
    },
    {
      "cell_type": "markdown",
      "metadata": {
        "id": "qB3-p-e74TTT"
      },
      "source": [
        "Fazemos uma segunda envoltória para ajudar na demonstração"
      ]
    },
    {
      "cell_type": "code",
      "execution_count": 249,
      "metadata": {
        "colab": {
          "base_uri": "https://localhost:8080/",
          "height": 648
        },
        "id": "GKygMv2v91hO",
        "outputId": "5f1d29dc-d89f-4c86-b9cf-2f090f3c31da"
      },
      "outputs": [
        {
          "data": {
            "image/png": "[encoded data removed]",
            "text/plain": [
              "<Figure size 1152x720 with 1 Axes>"
            ]
          },
          "metadata": {
            "needs_background": "light"
          },
          "output_type": "display_data"
        }
      ],
      "source": [
        "figurefig, ax = plt.subplots()\n",
        "\n",
        "# Gera vetor de pontos\n",
        "pVec = geraPts(0, 40, 10, 50, 100)\n",
        "\n",
        "#Gera envoltória\n",
        "env2 = EnvoltoriaDeGrahm(pVec, n)\n",
        "\n",
        "#Gera segmentos da segunda envoltória\n",
        "Seg2 = construtorSeg(env2, 1)\n",
        "\n",
        "xSeg1 = []\n",
        "ySeg1 = []\n",
        "for x in Seg1:\n",
        "  xSeg1.append(x.pontoEsquerdo.x)\n",
        "  ySeg1.append(x.pontoEsquerdo.y)\n",
        "\n",
        "xSeg1.append(Seg1[0].pontoEsquerdo.x)\n",
        "ySeg1.append(Seg1[0].pontoEsquerdo.y)\n",
        "\n",
        "\n",
        "xSeg2 = []\n",
        "ySeg2 = []\n",
        "for x in Seg2:\n",
        "  xSeg2.append(x.pontoEsquerdo.x)\n",
        "  ySeg2.append(x.pontoEsquerdo.y)\n",
        "\n",
        "xSeg2.append(Seg2[0].pontoEsquerdo.x)\n",
        "ySeg2.append(Seg2[0].pontoEsquerdo.y)\n",
        "\n",
        "ax.plot(xSeg1, ySeg1, '-')\n",
        "ax.plot(xSeg2, ySeg2, '-')\n",
        "plt.show()"
      ]
    },
    {
      "cell_type": "markdown",
      "metadata": {
        "id": "4t_Hp-3Z5gnj"
      },
      "source": [
        "## Agora vamos achar:\n",
        ">A **Distância Mínima** entre as 2 envoltórias\n",
        "\n",
        ">O **Ponto Médio** entre as 2 envoltórias\n",
        "\n",
        "> E uma **Reta** dividindo essas 2 envoltórias. \n",
        "\n",
        "> **Intervalo** de X que contém as 2 envoltórias\n",
        "\n"
      ]
    },
    {
      "cell_type": "markdown",
      "metadata": {
        "id": "hJuU2qJy6CsX"
      },
      "source": [
        "Distância Mínima"
      ]
    },
    {
      "cell_type": "code",
      "execution_count": 250,
      "metadata": {
        "id": "AaiimDJp6Ary"
      },
      "outputs": [],
      "source": [
        "def minDist(env1, env2):\n",
        "  minDis = distSq(env1[0], env2[0])\n",
        "  k = 0\n",
        "  l = 0\n",
        "  for i in range(len(env1)):\n",
        "    for j in range(len(env2)):\n",
        "      helper = distSq(env1[i], env2[j])\n",
        "      if (minDis > helper):\n",
        "        minDis = helper\n",
        "        k = i\n",
        "        l = j\n",
        "  return env1[k], env2[l]"
      ]
    },
    {
      "cell_type": "code",
      "execution_count": 251,
      "metadata": {
        "id": "6yaGK3GC0B4l"
      },
      "outputs": [],
      "source": [
        "ptMinDist1, ptMinDist2 = minDist(env1, env2)"
      ]
    },
    {
      "cell_type": "markdown",
      "metadata": {
        "id": "zKhFoqJF6JYA"
      },
      "source": [
        "Ponto Médio"
      ]
    },
    {
      "cell_type": "code",
      "execution_count": 252,
      "metadata": {
        "id": "mzA8R9j16LqY"
      },
      "outputs": [],
      "source": [
        "def pontoMedio(ptMinDist1, ptMinDist2):\n",
        "  xMedio = (ptMinDist1.x + ptMinDist2.x)/2\n",
        "  yMedio = (ptMinDist1.y + ptMinDist2.y)/2\n",
        "  pMedio = Ponto(xMedio, yMedio)\n",
        "  return pMedio"
      ]
    },
    {
      "cell_type": "code",
      "execution_count": 253,
      "metadata": {
        "id": "-_xaeGrp374t"
      },
      "outputs": [],
      "source": [
        "pMedio = pontoMedio(ptMinDist1, ptMinDist2)"
      ]
    },
    {
      "cell_type": "markdown",
      "metadata": {
        "id": "SWpSW2tP6R0F"
      },
      "source": [
        "Reta que divide as 2 envoltórias"
      ]
    },
    {
      "cell_type": "code",
      "execution_count": 254,
      "metadata": {
        "id": "jOw2xKiC6O8p"
      },
      "outputs": [],
      "source": [
        "def retaDiv(ptMinDist1, ptMinDist2, pMedio, xMin, xMax):\n",
        "  # Reta de menor distância que liga as 2 envoltórias\n",
        "  xRetaMin = [ptMinDist1.x, ptMinDist2.x]\n",
        "  yRetaMin = [ptMinDist1.y, ptMinDist2.y]\n",
        "\n",
        "\n",
        "  deltaX = (ptMinDist2.x - ptMinDist1.x)\n",
        "  if (deltaX == 0):\n",
        "    deltaX += 0.0001\n",
        "    \n",
        "  # Coeficiente ângular da reta perpedicular     \n",
        "  alpha = (ptMinDist2.y - ptMinDist1.y)/deltaX\n",
        "  if (alpha == 0):\n",
        "    alpha += 0.0001\n",
        "\n",
        "  invAlpha = -1/alpha\n",
        "\n",
        "  # Coeficiente linear da reta perpendicular\n",
        "  beta = -(invAlpha * pMedio.x) + pMedio.y\n",
        "\n",
        "  # Criando segmento contido na reta do modelo\n",
        "  y = (invAlpha * (pMedio.x + 50)) + beta\n",
        "  segRetaPerp = Segmento(Ponto(50, y), pMedio, 3) \n",
        "\n",
        "  # Um arranjo de pontos x para criar a reta perpendicular\n",
        "  f = np.arange(math.floor(xMin), math.ceil(xMax) + 1, 1)\n",
        "\n",
        "  # Equação do Modelo\n",
        "  eqModelo = (invAlpha * f) - (invAlpha * pMedio.x) + pMedio.y\n",
        "  return eqModelo, f, segRetaPerp, invAlpha"
      ]
    },
    {
      "cell_type": "markdown",
      "metadata": {
        "id": "SoDtEvtZ-B8M"
      },
      "source": [
        "Intervalo de X"
      ]
    },
    {
      "cell_type": "code",
      "execution_count": 255,
      "metadata": {
        "id": "kdvQIlPh9B2I"
      },
      "outputs": [],
      "source": [
        "def getMinMax(env1, env2):\n",
        "  xMin = env1[0].x\n",
        "  for i in range(len(env1)):\n",
        "    if xMin > env1[i].x:\n",
        "      xMin = env1[i].x\n",
        "\n",
        "  xMax = env2[0].x\n",
        "  for i in range(len(env2)):\n",
        "    if xMax < env2[i].x:\n",
        "      xMax = env2[i].x\n",
        "  return math.floor(xMin), math.ceil(xMax)"
      ]
    },
    {
      "cell_type": "markdown",
      "metadata": {
        "id": "875Iykzf67Uc"
      },
      "source": [
        "Agora vamos plotar o que fizemos"
      ]
    },
    {
      "cell_type": "code",
      "execution_count": 256,
      "metadata": {
        "colab": {
          "base_uri": "https://localhost:8080/",
          "height": 613
        },
        "id": "C_4ej7Vh7JOq",
        "outputId": "0ec24031-ccd1-495d-fceb-daae4ce16cf6"
      },
      "outputs": [
        {
          "data": {
            "image/png": "[encoded data removed]",
            "text/plain": [
              "<Figure size 1152x720 with 1 Axes>"
            ]
          },
          "metadata": {
            "needs_background": "light"
          },
          "output_type": "display_data"
        }
      ],
      "source": [
        "fig, ax = plt.subplots()\n",
        "\n",
        "xSeg1 = []\n",
        "ySeg1 = []\n",
        "for n in Seg1:\n",
        "  xSeg1.append(n.pontoEsquerdo.x)\n",
        "  ySeg1.append(n.pontoEsquerdo.y)\n",
        "\n",
        "xSeg1.append(Seg1[0].pontoEsquerdo.x)\n",
        "ySeg1.append(Seg1[0].pontoEsquerdo.y)\n",
        "\n",
        "\n",
        "xSeg2 = []\n",
        "ySeg2 = []\n",
        "for n in Seg2:\n",
        "  xSeg2.append(n.pontoEsquerdo.x)\n",
        "  ySeg2.append(n.pontoEsquerdo.y)\n",
        "\n",
        "xSeg2.append(Seg2[0].pontoEsquerdo.x)\n",
        "ySeg2.append(Seg2[0].pontoEsquerdo.y)\n",
        "\n",
        "xMin, xMax = getMinMax(env1, env2)\n",
        "eqModelo, f, segRetaPerp, invAlpha = retaDiv(ptMinDist1, ptMinDist2, pMedio, xMin, xMax)\n",
        "\n",
        "# Reta de menor distância que liga as 2 envoltórias\n",
        "xRetaMin = [ptMinDist1.x, ptMinDist2.x]\n",
        "yRetaMin = [ptMinDist1.y, ptMinDist2.y]\n",
        "\n",
        "ax.plot(xSeg1, ySeg1, '-')\n",
        "ax.plot(xSeg2, ySeg2, '-')\n",
        "ax.plot(pMedio.x, pMedio.y, '.')\n",
        "ax.plot(xRetaMin, yRetaMin, '-')\n",
        "ax.plot(f, eqModelo, '-', c='red', linewidth=2)\n",
        "plt.show()"
      ]
    },
    {
      "cell_type": "markdown",
      "metadata": {
        "id": "08uN-tvSFDbt"
      },
      "source": [
        "Então implementaremos o classificador de forma que todos os pontos acima da reta vermelha pertencerão à classe dos pontos da envoltória de cor laranja e todos os pontos abaixo da reta pertencerão a classe dos pontos da envoltória azul."
      ]
    },
    {
      "cell_type": "markdown",
      "metadata": {
        "id": "KhS6FMlBa1gi"
      },
      "source": [
        "## Fazendo a função classificadora\n"
      ]
    },
    {
      "cell_type": "markdown",
      "metadata": {
        "id": "aODphgu4sjxj"
      },
      "source": [
        "Na classificação, vamos ver a orientação de todos os pontos em relação a um segmento pertencente a reta perpendicular achada acima. Um ponto estará em uma das duas regiões do plano caso esteja em sentido anti-horário em relação ao segmento, na outra caso esteja em sentido horário e em nenhuma caso seja colinear ao segmento. Sendo que cada região corresponde a um rótulo possível para a nova amostra."
      ]
    },
    {
      "cell_type": "code",
      "execution_count": 257,
      "metadata": {
        "id": "VVjQVcXNa9rX"
      },
      "outputs": [],
      "source": [
        "def classificador(pontos, segReta):\n",
        "    ptsRot0 = []\n",
        "    ptsRot1 = []\n",
        "    ptsRot2 = []\n",
        "\n",
        "    for n in range(len(pontos)):\n",
        "      direcao = direcaoSeg(pontos[n], segReta.pontoEsquerdo, segReta.pontoDireito)\n",
        "\n",
        "      if (direcao == 1):\n",
        "        ptsRot1.append(pontos[n]) # sentido horario\n",
        "      elif (direcao == 2):\n",
        "        ptsRot2.append(pontos[n]) # sentido anti-horario\n",
        "      else:\n",
        "        ptsRot0.append(pontos[n])  # colineares\n",
        "\n",
        "    return ptsRot0, ptsRot1, ptsRot2 \n",
        "\n",
        "ptsSort = geraPts(-80,50,-80,50, 100)\n",
        "ptsRot0, ptsRot1, ptsRot2 = classificador(ptsSort, segRetaPerp)"
      ]
    },
    {
      "cell_type": "markdown",
      "metadata": {
        "id": "xJYrkxBFqna5"
      },
      "source": [
        "Abaixo temos uma visualização gráfica do nosso classificador. \n",
        "\n",
        "Sendo a reta perpendicular encontrada anteriormente nosso modelos, os pontos em laranja os que possuem Rótulo A recebendo o mesmo rótulo da envoltória laranja mostrada acima e os azuis pontos com o rótulo da envoltória de mesma cor presente acima. Também há pontos pretos em cima da reta do modelo, estes não recebem rótulos."
      ]
    },
    {
      "cell_type": "code",
      "execution_count": 258,
      "metadata": {
        "colab": {
          "base_uri": "https://localhost:8080/",
          "height": 607
        },
        "id": "GVti8Lr7HDiN",
        "outputId": "3c0bec4b-fc2f-4925-954b-b2e7111c996d"
      },
      "outputs": [
        {
          "data": {
            "image/png": "[encoded data removed]",
            "text/plain": [
              "<Figure size 1152x720 with 1 Axes>"
            ]
          },
          "metadata": {
            "needs_background": "light"
          },
          "output_type": "display_data"
        }
      ],
      "source": [
        "# Um arranjo de pontos x para criar a reta perpendicular\n",
        "f = np.arange(-100,100,1)\n",
        "\n",
        "# Equação do Modelo\n",
        "eqModelo = (invAlpha * f) - (invAlpha * pMedio.x) + pMedio.y\n",
        "\n",
        "fig, ax = plt.subplots()\n",
        "\n",
        "xRot0 = []\n",
        "yRot0 = []\n",
        "for n in ptsRot0:\n",
        "  xRot0.append(n.x)\n",
        "  yRot0.append(n.y)\n",
        "\n",
        "if len(ptsRot0) != 0:\n",
        "  xRot0.append(ptsRot0[0].x)\n",
        "  yRot0.append(ptsRot0[0].y)\n",
        "\n",
        "xRot1 = []\n",
        "yRot1 = []\n",
        "for n in ptsRot1:\n",
        "  xRot1.append(n.x)\n",
        "  yRot1.append(n.y)\n",
        "\n",
        "xRot1.append(ptsRot1[0].x)\n",
        "yRot1.append(ptsRot1[0].y)\n",
        "\n",
        "xRot2 = []\n",
        "yRot2 = []\n",
        "for n in ptsRot2:\n",
        "  xRot2.append(n.x)\n",
        "  yRot2.append(n.y)\n",
        "\n",
        "xRot2.append(ptsRot2[0].x)\n",
        "yRot2.append(ptsRot2[0].y)\n",
        "\n",
        "plt.scatter(xRot0, yRot0, c='black')\n",
        "plt.scatter(xRot1, yRot1, c='darkorange', label='Rótulo A')\n",
        "plt.scatter(xRot2, yRot2, c='blue', label='Rótulo B')\n",
        "ax.plot(f, eqModelo, '-', linewidth=2, c='red', label='Modelo')\n",
        "plt.legend()\n",
        "plt.show()"
      ]
    },
    {
      "cell_type": "markdown",
      "metadata": {
        "id": "4MSrXsPB34BN"
      },
      "source": [
        "# Modelagem"
      ]
    },
    {
      "cell_type": "markdown",
      "metadata": {
        "id": "UhGpErF_4SMy"
      },
      "source": [
        "Com tudo pronto e funcionando, agora testaremos nosso classificador em diversos bancos de dados para avaliar sua eficiência na tarefa. Usaremos a biblioteca pandas para facilitar a visualização das tabelas. Os datasets serão modificados para o propósito do trabalho, sempre avaliaremos apenas duas classes e dois atributos."
      ]
    },
    {
      "cell_type": "markdown",
      "metadata": {
        "id": "_MVDt9xh-OjY"
      },
      "source": [
        "Essa função recebe o dataset filtrado pela classe, as colunas que serão usadas no eixo x e y, e o número da envoltória retornando o conjunto de pontos que formam a envoltória."
      ]
    },
    {
      "cell_type": "code",
      "execution_count": 259,
      "metadata": {
        "id": "49gtJRzQ9UPg"
      },
      "outputs": [],
      "source": [
        "def EvoltoriaDaClasse(dfClasse,colunaX,colunaY):\n",
        "  listaX = dfClasse[colunaX].tolist()\n",
        "  listaY = dfClasse[colunaY].tolist()\n",
        "\n",
        "  listaDePontos = []\n",
        "  for x,y in zip(listaX,listaY):\n",
        "    listaDePontos.append(Ponto(x,y))\n",
        "\n",
        "  envoltoria = EnvoltoriaDeGrahm(listaDePontos, len(listaDePontos))\n",
        "  return envoltoria"
      ]
    },
    {
      "cell_type": "markdown",
      "metadata": {
        "id": "U3s0UgdguRLm"
      },
      "source": [
        "Função para calcular a métrica precisão"
      ]
    },
    {
      "cell_type": "code",
      "execution_count": 260,
      "metadata": {
        "id": "dOQZS4l3ujxY"
      },
      "outputs": [],
      "source": [
        "#formula VP/VP+FP\n",
        "#vp = verdadeiros positivos\n",
        "#fp = falsos positivos\n",
        "def calculaPrecisao(segRetaPerp,df_teste,ClasseDireita,ClasseEsquerda,colunaX,colunaY):\n",
        "  vp = 0\n",
        "  fp = 0\n",
        "  dfDireita = df_teste.query(\"Class == @ClasseDireita\")\n",
        "  dfEsquerda = df_teste.query(\"Class == @ClasseEsquerda\")\n",
        "\n",
        "  #fazendo o da direita, ou seja, sentido horário em relação a reta\n",
        "  #considerarei a direita positivo e esquerda negativo\n",
        "  listaX = dfDireita[colunaX].tolist()\n",
        "  listaY = dfDireita[colunaY].tolist()\n",
        "\n",
        "  listaDePontos = []\n",
        "  for x,y in zip(listaX,listaY):\n",
        "    listaDePontos.append(Ponto(x,y))\n",
        "  \n",
        "  ptsRot0, ptsRot1, ptsRot2 = classificador(listaDePontos, segRetaPerp)\n",
        "  vp = len(ptsRot1)\n",
        "\n",
        "  #fazendo para esquerda\n",
        "  listaX = dfEsquerda[colunaX].tolist()\n",
        "  listaY = dfEsquerda[colunaY].tolist()\n",
        "\n",
        "  listaDePontos = []\n",
        "  for x,y in zip(listaX,listaY):\n",
        "    listaDePontos.append(Ponto(x,y))\n",
        "  \n",
        "  ptsRot0, ptsRot1, ptsRot2 = classificador(listaDePontos, segRetaPerp)\n",
        "  fp = len(ptsRot1)\n",
        "\n",
        "  den = vp + fp\n",
        "  if den == 0:\n",
        "    return \"impossível identificar\"\n",
        "  else:\n",
        "    return vp/den"
      ]
    },
    {
      "cell_type": "markdown",
      "metadata": {
        "id": "ni56TalZ3x2v"
      },
      "source": [
        "Função para calcular a métrica revocação"
      ]
    },
    {
      "cell_type": "code",
      "execution_count": 261,
      "metadata": {
        "id": "MNsrAEr731QQ"
      },
      "outputs": [],
      "source": [
        "#formula VP/VP+FN\n",
        "#vp = verdadeiros positivos\n",
        "#fn = falsos negativos\n",
        "def calculaRevocacao(segRetaPerp,df_teste,ClasseDireita,ClasseEsquerda,colunaX,colunaY):\n",
        "  vp = 0\n",
        "  fn = 0\n",
        "  dfDireita = df_teste.query(\"Class == @ClasseDireita\")\n",
        "  dfEsquerda = df_teste.query(\"Class == @ClasseEsquerda\")\n",
        "\n",
        "  #fazendo o da direita, ou seja, sentido horário em relação a reta\n",
        "  #considerarei a direita positivo e esquerda negativo\n",
        "  listaX = dfDireita[colunaX].tolist()\n",
        "  listaY = dfDireita[colunaY].tolist()\n",
        "\n",
        "  listaDePontos = []\n",
        "  for x,y in zip(listaX,listaY):\n",
        "    listaDePontos.append(Ponto(x,y))\n",
        "  \n",
        "  ptsRot0, ptsRot1, ptsRot2 = classificador(listaDePontos, segRetaPerp)\n",
        "  vp = len(ptsRot1)\n",
        "  fn = len(ptsRot2)\n",
        "\n",
        "  den = vp + fn\n",
        "  if den == 0:\n",
        "    return \"impossível identificar\"\n",
        "  else:\n",
        "    return vp/den"
      ]
    },
    {
      "cell_type": "markdown",
      "metadata": {
        "id": "JZSF2d1V9JzP"
      },
      "source": [
        "Função para calcular a métrica F1-Score"
      ]
    },
    {
      "cell_type": "code",
      "execution_count": 262,
      "metadata": {
        "id": "SKpDCAJA9OUm"
      },
      "outputs": [],
      "source": [
        "def f1score(precisao,revocacao):\n",
        "  return ((2*precisao*revocacao)/(precisao+revocacao))"
      ]
    },
    {
      "cell_type": "markdown",
      "metadata": {
        "id": "9dOL8ZUBLJj3"
      },
      "source": [
        "Função auxiliar para plotar a envoltória"
      ]
    },
    {
      "cell_type": "code",
      "execution_count": 263,
      "metadata": {
        "id": "IMrmpuqgIYcI"
      },
      "outputs": [],
      "source": [
        "def plotaEnvoltoria(env):\n",
        "  figurefig, ax = plt.subplots()\n",
        "\n",
        "  xSeg1 = []\n",
        "  ySeg1 = []\n",
        "  for x in env:\n",
        "    xSeg1.append(x.x)\n",
        "    ySeg1.append(x.y)\n",
        "\n",
        "  xSeg1.append(env[0].x)\n",
        "  ySeg1.append(env[0].y)\n",
        "\n",
        "  ax.plot(xSeg1, ySeg1, '-')\n",
        "  plt.show()"
      ]
    },
    {
      "cell_type": "markdown",
      "metadata": {
        "id": "UqRo5sJS5B7I"
      },
      "source": [
        "# Iris DataSet"
      ]
    },
    {
      "cell_type": "markdown",
      "metadata": {
        "id": "zRMS4Wa_ApsH"
      },
      "source": [
        "Importamos um dataset sobre iris do https://sci2s.ugr.es/keel/category.php?cat=clas#inicio\n"
      ]
    },
    {
      "cell_type": "code",
      "execution_count": 264,
      "metadata": {
        "colab": {
          "base_uri": "https://localhost:8080/",
          "height": 206
        },
        "id": "E1N-F9KSBFVn",
        "outputId": "bdbd023a-c6dd-405a-ec61-12011c975fbc"
      },
      "outputs": [
        {
          "data": {
            "text/html": [
              "<div>\n",
              "<style scoped>\n",
              "    .dataframe tbody tr th:only-of-type {\n",
              "        vertical-align: middle;\n",
              "    }\n",
              "\n",
              "    .dataframe tbody tr th {\n",
              "        vertical-align: top;\n",
              "    }\n",
              "\n",
              "    .dataframe thead th {\n",
              "        text-align: right;\n",
              "    }\n",
              "</style>\n",
              "<table border=\"1\" class=\"dataframe\">\n",
              "  <thead>\n",
              "    <tr style=\"text-align: right;\">\n",
              "      <th></th>\n",
              "      <th>SepalLength</th>\n",
              "      <th>SepalWidth</th>\n",
              "      <th>PetalLength</th>\n",
              "      <th>PetalWidth</th>\n",
              "      <th>Class</th>\n",
              "    </tr>\n",
              "  </thead>\n",
              "  <tbody>\n",
              "    <tr>\n",
              "      <th>0</th>\n",
              "      <td>5.1</td>\n",
              "      <td>3.5</td>\n",
              "      <td>1.4</td>\n",
              "      <td>0.2</td>\n",
              "      <td>Iris-setosa</td>\n",
              "    </tr>\n",
              "    <tr>\n",
              "      <th>1</th>\n",
              "      <td>4.9</td>\n",
              "      <td>3.0</td>\n",
              "      <td>1.4</td>\n",
              "      <td>0.2</td>\n",
              "      <td>Iris-setosa</td>\n",
              "    </tr>\n",
              "    <tr>\n",
              "      <th>2</th>\n",
              "      <td>4.6</td>\n",
              "      <td>3.1</td>\n",
              "      <td>1.5</td>\n",
              "      <td>0.2</td>\n",
              "      <td>Iris-setosa</td>\n",
              "    </tr>\n",
              "    <tr>\n",
              "      <th>3</th>\n",
              "      <td>5.0</td>\n",
              "      <td>3.6</td>\n",
              "      <td>1.4</td>\n",
              "      <td>0.2</td>\n",
              "      <td>Iris-setosa</td>\n",
              "    </tr>\n",
              "    <tr>\n",
              "      <th>4</th>\n",
              "      <td>5.4</td>\n",
              "      <td>3.9</td>\n",
              "      <td>1.7</td>\n",
              "      <td>0.4</td>\n",
              "      <td>Iris-setosa</td>\n",
              "    </tr>\n",
              "  </tbody>\n",
              "</table>\n",
              "</div>"
            ],
            "text/plain": [
              "   SepalLength  SepalWidth  PetalLength  PetalWidth        Class\n",
              "0          5.1         3.5          1.4         0.2  Iris-setosa\n",
              "1          4.9         3.0          1.4         0.2  Iris-setosa\n",
              "2          4.6         3.1          1.5         0.2  Iris-setosa\n",
              "3          5.0         3.6          1.4         0.2  Iris-setosa\n",
              "4          5.4         3.9          1.7         0.4  Iris-setosa"
            ]
          },
          "execution_count": 264,
          "metadata": {},
          "output_type": "execute_result"
        }
      ],
      "source": [
        "import pandas as pd\n",
        "\n",
        "# Importando o arquivo .csv do dataset\n",
        "url = 'https://raw.githubusercontent.com/IvanAssis07/TP_ICD/main/iris.csv'\n",
        "df = pd.read_csv(url)\n",
        "df.head()"
      ]
    },
    {
      "cell_type": "markdown",
      "metadata": {
        "id": "cQ5JrRM54WQ3"
      },
      "source": [
        "A primeira coisa que devemos fazer é separar o grupo de treinamento do modelo e o grupo de teste"
      ]
    },
    {
      "cell_type": "code",
      "execution_count": 265,
      "metadata": {
        "id": "wK9-1EYx4b8H"
      },
      "outputs": [],
      "source": [
        "df_teste = df.sample(frac = 0.3)\n",
        "df_treino = df.drop(df_teste.index)"
      ]
    },
    {
      "cell_type": "markdown",
      "metadata": {
        "id": "MArLc1lEBQzw"
      },
      "source": [
        "Como no nosso trabalho estamos avaliando apenas dados que possuem duas classes, modificamos o banco de dados para conter apenas duas classes de iris. Também vamos retirar duas das colunas, pois queremos avaliar um atributo apenas por eixo. Usaremos SepalLength como a variável para o eixo x e PetalLength como variável para o eixo y."
      ]
    },
    {
      "cell_type": "markdown",
      "metadata": {
        "id": "CzzynO4OLdef"
      },
      "source": [
        "Para a primeira classe:"
      ]
    },
    {
      "cell_type": "code",
      "execution_count": 266,
      "metadata": {
        "colab": {
          "base_uri": "https://localhost:8080/",
          "height": 206
        },
        "id": "-CStrxZPBNm4",
        "outputId": "3294cde5-da42-4894-9030-91014534afaf"
      },
      "outputs": [
        {
          "data": {
            "text/html": [
              "<div>\n",
              "<style scoped>\n",
              "    .dataframe tbody tr th:only-of-type {\n",
              "        vertical-align: middle;\n",
              "    }\n",
              "\n",
              "    .dataframe tbody tr th {\n",
              "        vertical-align: top;\n",
              "    }\n",
              "\n",
              "    .dataframe thead th {\n",
              "        text-align: right;\n",
              "    }\n",
              "</style>\n",
              "<table border=\"1\" class=\"dataframe\">\n",
              "  <thead>\n",
              "    <tr style=\"text-align: right;\">\n",
              "      <th></th>\n",
              "      <th>SepalLength</th>\n",
              "      <th>SepalWidth</th>\n",
              "      <th>PetalLength</th>\n",
              "      <th>PetalWidth</th>\n",
              "      <th>Class</th>\n",
              "    </tr>\n",
              "  </thead>\n",
              "  <tbody>\n",
              "    <tr>\n",
              "      <th>0</th>\n",
              "      <td>5.1</td>\n",
              "      <td>3.5</td>\n",
              "      <td>1.4</td>\n",
              "      <td>0.2</td>\n",
              "      <td>Iris-setosa</td>\n",
              "    </tr>\n",
              "    <tr>\n",
              "      <th>1</th>\n",
              "      <td>4.9</td>\n",
              "      <td>3.0</td>\n",
              "      <td>1.4</td>\n",
              "      <td>0.2</td>\n",
              "      <td>Iris-setosa</td>\n",
              "    </tr>\n",
              "    <tr>\n",
              "      <th>3</th>\n",
              "      <td>5.0</td>\n",
              "      <td>3.6</td>\n",
              "      <td>1.4</td>\n",
              "      <td>0.2</td>\n",
              "      <td>Iris-setosa</td>\n",
              "    </tr>\n",
              "    <tr>\n",
              "      <th>4</th>\n",
              "      <td>5.4</td>\n",
              "      <td>3.9</td>\n",
              "      <td>1.7</td>\n",
              "      <td>0.4</td>\n",
              "      <td>Iris-setosa</td>\n",
              "    </tr>\n",
              "    <tr>\n",
              "      <th>7</th>\n",
              "      <td>4.4</td>\n",
              "      <td>2.9</td>\n",
              "      <td>1.4</td>\n",
              "      <td>0.2</td>\n",
              "      <td>Iris-setosa</td>\n",
              "    </tr>\n",
              "  </tbody>\n",
              "</table>\n",
              "</div>"
            ],
            "text/plain": [
              "   SepalLength  SepalWidth  PetalLength  PetalWidth        Class\n",
              "0          5.1         3.5          1.4         0.2  Iris-setosa\n",
              "1          4.9         3.0          1.4         0.2  Iris-setosa\n",
              "3          5.0         3.6          1.4         0.2  Iris-setosa\n",
              "4          5.4         3.9          1.7         0.4  Iris-setosa\n",
              "7          4.4         2.9          1.4         0.2  Iris-setosa"
            ]
          },
          "execution_count": 266,
          "metadata": {},
          "output_type": "execute_result"
        }
      ],
      "source": [
        "df_setosa = df_treino.query('Class == \"Iris-setosa\"')\n",
        "df_setosa.head(5)"
      ]
    },
    {
      "cell_type": "code",
      "execution_count": 267,
      "metadata": {
        "colab": {
          "base_uri": "https://localhost:8080/",
          "height": 206
        },
        "id": "o50J0IQPXeij",
        "outputId": "c6576ff6-65c1-4178-a984-e1c640446403"
      },
      "outputs": [
        {
          "data": {
            "text/html": [
              "<div>\n",
              "<style scoped>\n",
              "    .dataframe tbody tr th:only-of-type {\n",
              "        vertical-align: middle;\n",
              "    }\n",
              "\n",
              "    .dataframe tbody tr th {\n",
              "        vertical-align: top;\n",
              "    }\n",
              "\n",
              "    .dataframe thead th {\n",
              "        text-align: right;\n",
              "    }\n",
              "</style>\n",
              "<table border=\"1\" class=\"dataframe\">\n",
              "  <thead>\n",
              "    <tr style=\"text-align: right;\">\n",
              "      <th></th>\n",
              "      <th>SepalLength</th>\n",
              "      <th>PetalLength</th>\n",
              "      <th>Class</th>\n",
              "    </tr>\n",
              "  </thead>\n",
              "  <tbody>\n",
              "    <tr>\n",
              "      <th>0</th>\n",
              "      <td>5.1</td>\n",
              "      <td>1.4</td>\n",
              "      <td>Iris-setosa</td>\n",
              "    </tr>\n",
              "    <tr>\n",
              "      <th>1</th>\n",
              "      <td>4.9</td>\n",
              "      <td>1.4</td>\n",
              "      <td>Iris-setosa</td>\n",
              "    </tr>\n",
              "    <tr>\n",
              "      <th>3</th>\n",
              "      <td>5.0</td>\n",
              "      <td>1.4</td>\n",
              "      <td>Iris-setosa</td>\n",
              "    </tr>\n",
              "    <tr>\n",
              "      <th>4</th>\n",
              "      <td>5.4</td>\n",
              "      <td>1.7</td>\n",
              "      <td>Iris-setosa</td>\n",
              "    </tr>\n",
              "    <tr>\n",
              "      <th>7</th>\n",
              "      <td>4.4</td>\n",
              "      <td>1.4</td>\n",
              "      <td>Iris-setosa</td>\n",
              "    </tr>\n",
              "  </tbody>\n",
              "</table>\n",
              "</div>"
            ],
            "text/plain": [
              "   SepalLength  PetalLength        Class\n",
              "0          5.1          1.4  Iris-setosa\n",
              "1          4.9          1.4  Iris-setosa\n",
              "3          5.0          1.4  Iris-setosa\n",
              "4          5.4          1.7  Iris-setosa\n",
              "7          4.4          1.4  Iris-setosa"
            ]
          },
          "execution_count": 267,
          "metadata": {},
          "output_type": "execute_result"
        }
      ],
      "source": [
        "df_setosa = df_setosa.drop(labels=['SepalWidth', 'PetalWidth'], axis=1)\n",
        "df_setosa.head(5)"
      ]
    },
    {
      "cell_type": "code",
      "execution_count": 268,
      "metadata": {
        "colab": {
          "base_uri": "https://localhost:8080/",
          "height": 607
        },
        "id": "-IffiusDBbQY",
        "outputId": "7300dc36-7bc0-41d3-fade-fea62390969f"
      },
      "outputs": [
        {
          "data": {
            "image/png": "[encoded data removed]",
            "text/plain": [
              "<Figure size 1152x720 with 1 Axes>"
            ]
          },
          "metadata": {
            "needs_background": "light"
          },
          "output_type": "display_data"
        }
      ],
      "source": [
        "env1 = EvoltoriaDaClasse(df_setosa,'SepalLength','PetalLength')\n",
        "plotaEnvoltoria(env1)"
      ]
    },
    {
      "cell_type": "markdown",
      "metadata": {
        "id": "Z106Es5cLgau"
      },
      "source": [
        "Para a segunda classe:"
      ]
    },
    {
      "cell_type": "code",
      "execution_count": 269,
      "metadata": {
        "id": "ScAYWlhWLi4_"
      },
      "outputs": [],
      "source": [
        "df_virginica = df_treino.query('Class == \"Iris-virginica\"')\n",
        "df_virginica = df_virginica.drop(labels=['SepalWidth', 'PetalWidth'], axis=1)"
      ]
    },
    {
      "cell_type": "code",
      "execution_count": 270,
      "metadata": {
        "colab": {
          "base_uri": "https://localhost:8080/",
          "height": 607
        },
        "id": "vgVrUSrSNyPv",
        "outputId": "5263b70f-abb3-4cae-f415-4c776968cb5e"
      },
      "outputs": [
        {
          "data": {
            "image/png": "[encoded data removed]",
            "text/plain": [
              "<Figure size 1152x720 with 1 Axes>"
            ]
          },
          "metadata": {
            "needs_background": "light"
          },
          "output_type": "display_data"
        }
      ],
      "source": [
        "env2 = EvoltoriaDaClasse(df_virginica,'SepalLength','PetalLength')\n",
        "plotaEnvoltoria(env2)"
      ]
    },
    {
      "cell_type": "markdown",
      "metadata": {
        "id": "RvopjBKCPI0n"
      },
      "source": [
        "Agora precisamos chegar se essas classes são linearmente separáveis.\n"
      ]
    },
    {
      "cell_type": "code",
      "execution_count": 271,
      "metadata": {
        "colab": {
          "base_uri": "https://localhost:8080/"
        },
        "id": "NA1nDB8cPRd2",
        "outputId": "a515a210-825b-4a8f-a2fb-f76a2f090b92"
      },
      "outputs": [
        {
          "name": "stdout",
          "output_type": "stream",
          "text": [
            "envoltórias separadas\n"
          ]
        }
      ],
      "source": [
        "# Criamos os segmentos para as envoltórias\n",
        "Seg1 = construtorSeg(env1, 0)\n",
        "Seg2 = construtorSeg(env2, 1)\n",
        "\n",
        "# Checamos se uma está dentro da outra\n",
        "if envDentroEnv(Seg1, Seg2):\n",
        "  print(\"Uma envoltória é subconjunto da outra\")\n",
        "else:\n",
        "  print(\"envoltórias separadas\")"
      ]
    },
    {
      "cell_type": "markdown",
      "metadata": {
        "id": "ub32E-MNdKsv"
      },
      "source": [
        "Como uma envoltória não está contida na outra vamos avaliar se existe interseção entre elas"
      ]
    },
    {
      "cell_type": "code",
      "execution_count": 272,
      "metadata": {
        "colab": {
          "base_uri": "https://localhost:8080/"
        },
        "id": "9HeOnwWUdYV3",
        "outputId": "87d98d6f-fe53-4001-f8bc-16414a5d1206"
      },
      "outputs": [
        {
          "name": "stdout",
          "output_type": "stream",
          "text": [
            "dados linearmente separáveis\n"
          ]
        }
      ],
      "source": [
        "if varreduraSeg(Seg1, Seg2):\n",
        "  print(\"dados não são linearmente separáveis\")\n",
        "else:\n",
        "  print(\"dados linearmente separáveis\")"
      ]
    },
    {
      "cell_type": "markdown",
      "metadata": {
        "id": "sn5AwTtBdwHP"
      },
      "source": [
        "Como os dados são linearmente separáveis podemos computar a reta do classificador"
      ]
    },
    {
      "cell_type": "code",
      "execution_count": 273,
      "metadata": {
        "colab": {
          "base_uri": "https://localhost:8080/",
          "height": 607
        },
        "id": "lPPOgfC_d383",
        "outputId": "5bb81557-5ac3-4da2-b7e3-dfa240ba925a"
      },
      "outputs": [
        {
          "data": {
            "image/png": "[encoded data removed]",
            "text/plain": [
              "<Figure size 1152x720 with 1 Axes>"
            ]
          },
          "metadata": {
            "needs_background": "light"
          },
          "output_type": "display_data"
        }
      ],
      "source": [
        "from cProfile import label\n",
        "\n",
        "\n",
        "fig, ax = plt.subplots()\n",
        "\n",
        "xSeg1 = []\n",
        "ySeg1 = []\n",
        "for n in Seg1:\n",
        "  xSeg1.append(n.pontoEsquerdo.x)\n",
        "  ySeg1.append(n.pontoEsquerdo.y)\n",
        "\n",
        "xSeg1.append(Seg1[0].pontoEsquerdo.x)\n",
        "ySeg1.append(Seg1[0].pontoEsquerdo.y)\n",
        "\n",
        "\n",
        "xSeg2 = []\n",
        "ySeg2 = []\n",
        "for n in Seg2:\n",
        "  xSeg2.append(n.pontoEsquerdo.x)\n",
        "  ySeg2.append(n.pontoEsquerdo.y)\n",
        "\n",
        "xSeg2.append(Seg2[0].pontoEsquerdo.x)\n",
        "ySeg2.append(Seg2[0].pontoEsquerdo.y)\n",
        "\n",
        "# Gerando nossa reta perpendicular\n",
        "ptMinDist1, ptMinDist2 = minDist(env1, env2)\n",
        "pMedio = pontoMedio(ptMinDist1, ptMinDist2)\n",
        "xMin, xMax = getMinMax(env1, env2)\n",
        "eqModelo, f, segRetaPerp, invAlpha = retaDiv(ptMinDist1, ptMinDist2, pMedio, xMin, xMax)\n",
        "\n",
        "# Reta de menor distância que liga as 2 envoltórias\n",
        "xRetaMin = [ptMinDist1.x, ptMinDist2.x]\n",
        "yRetaMin = [ptMinDist1.y, ptMinDist2.y]\n",
        "\n",
        "ax.plot(xSeg1, ySeg1, '-', label='Iris setosa')\n",
        "ax.plot(xSeg2, ySeg2, '-', label='Iris Virginica')\n",
        "ax.plot(pMedio.x, pMedio.y, '.')\n",
        "ax.plot(xRetaMin, yRetaMin, '-', linewidth=3)\n",
        "ax.plot(f, eqModelo, '-', c='red', linewidth=2)\n",
        "plt.xlabel('SepalLength')\n",
        "plt.ylabel('PetalLength')\n",
        "plt.legend()\n",
        "plt.show()"
      ]
    },
    {
      "cell_type": "markdown",
      "metadata": {
        "id": "HCyNzHKft6qn"
      },
      "source": [
        "Agora vamos calcular as métricas para avaliação do modelo. No caso a envoltória da direita da reta é a envoltória 2."
      ]
    },
    {
      "cell_type": "code",
      "execution_count": 274,
      "metadata": {
        "colab": {
          "base_uri": "https://localhost:8080/"
        },
        "id": "d_F45xhQ4Im1",
        "outputId": "57787c3c-a932-4cfb-f114-76e0cbb0130d"
      },
      "outputs": [
        {
          "name": "stdout",
          "output_type": "stream",
          "text": [
            "A precisão do modelo é: \n",
            "1.0\n"
          ]
        }
      ],
      "source": [
        "print(\"A precisão do modelo é: \")\n",
        "pre = calculaPrecisao(segRetaPerp,df_teste,\"Iris-virginica\",\"Iris-setosa\",'SepalLength','PetalLength')\n",
        "print(pre)"
      ]
    },
    {
      "cell_type": "code",
      "execution_count": 275,
      "metadata": {
        "colab": {
          "base_uri": "https://localhost:8080/"
        },
        "id": "wXUMibzi71ff",
        "outputId": "a3683d3d-2194-4848-c04c-630d6eac5320"
      },
      "outputs": [
        {
          "name": "stdout",
          "output_type": "stream",
          "text": [
            "A revocação do modelo é: \n",
            "1.0\n"
          ]
        }
      ],
      "source": [
        "print(\"A revocação do modelo é: \")\n",
        "rev = calculaRevocacao(segRetaPerp,df_teste,\"Iris-virginica\",\"Iris-setosa\",'SepalLength','PetalLength')\n",
        "print(rev)"
      ]
    },
    {
      "cell_type": "code",
      "execution_count": 276,
      "metadata": {
        "colab": {
          "base_uri": "https://localhost:8080/"
        },
        "id": "OB2wle3W9jr_",
        "outputId": "d7c0f5d8-7ca4-4daf-e361-d6c9be74909b"
      },
      "outputs": [
        {
          "name": "stdout",
          "output_type": "stream",
          "text": [
            "o f1-score do modelo é:\n",
            "1.0\n"
          ]
        }
      ],
      "source": [
        "print(\"o f1-score do modelo é:\")\n",
        "f1 = f1score(pre,rev)\n",
        "print(f1)"
      ]
    },
    {
      "cell_type": "markdown",
      "metadata": {
        "id": "h7d5MdfCTeZA"
      },
      "source": [
        "No caso todas as nossas métricas receberam a pontuação mais alta, isso significa que o nosso modelo tem grandes chances de se adequar perfeitamente aos dados."
      ]
    },
    {
      "cell_type": "markdown",
      "metadata": {},
      "source": [
        "# Generalização do classificador para qualquer dataset"
      ]
    },
    {
      "cell_type": "markdown",
      "metadata": {},
      "source": [
        "A seguir criamos duas funções que concatenam várias outras desenvolvidas acima para checar a separabilidade linear de um dataset. A função **_checaSeparalidade_** realiza todas as combinações 2 a dois dos atributos do dataset fornecido e também das possíveis classes que cada instância do dataset pode assumir. Ela usa essas combinações para checar a existência de dados linearmente separáveis e, caso sejam, é chamada a função **_reta classificador_** que plota estes estes dados e também o modelo criado a partir deles."
      ]
    },
    {
      "cell_type": "code",
      "execution_count": 277,
      "metadata": {},
      "outputs": [],
      "source": [
        "def retaClassificadora(seg1, seg2, env1, env2, classes, atributos, dfTeste):\n",
        "  fig, ax = plt.subplots()\n",
        "\n",
        "  xSeg1 = []\n",
        "  ySeg1 = []\n",
        "  for n in seg1:\n",
        "    xSeg1.append(n.pontoEsquerdo.x)\n",
        "    ySeg1.append(n.pontoEsquerdo.y)\n",
        "\n",
        "  xSeg1.append(seg1[0].pontoEsquerdo.x)\n",
        "  ySeg1.append(seg1[0].pontoEsquerdo.y)\n",
        "\n",
        "\n",
        "  xSeg2 = []\n",
        "  ySeg2 = []\n",
        "  for n in seg2:\n",
        "    xSeg2.append(n.pontoEsquerdo.x)\n",
        "    ySeg2.append(n.pontoEsquerdo.y)\n",
        "\n",
        "  xSeg2.append(seg2[0].pontoEsquerdo.x)\n",
        "  ySeg2.append(seg2[0].pontoEsquerdo.y)\n",
        "\n",
        "  # Gerando nossa reta perpendicular\n",
        "  ptMinDist1, ptMinDist2 = minDist(env1, env2)\n",
        "  pMedio = pontoMedio(ptMinDist1, ptMinDist2)\n",
        "  xMin, xMax = getMinMax(env1, env2)\n",
        "  eqModelo, f, segRetaPerp, invAlpha = retaDiv(ptMinDist1, ptMinDist2, pMedio, xMin, xMax)\n",
        "\n",
        "  prec = calculaPrecisao(segRetaPerp, dfTeste, classes[0], classes[1], atributos[0], atributos[1])\n",
        "  rev = calculaRevocacao(segRetaPerp, dfTeste, classes[0], classes[1], atributos[0], atributos[1])\n",
        "  f1 = f1score(prec, rev)\n",
        "\n",
        "  print('A precisão é:' + str(prec))\n",
        "  print('A revocacao do modelo é:' + str(rev))\n",
        "  print('O F1Score do modelo é:' + str(f1))\n",
        "\n",
        "  # Reta de menor distância que liga as 2 envoltórias\n",
        "  xRetaMin = [ptMinDist1.x, ptMinDist2.x]\n",
        "  yRetaMin = [ptMinDist1.y, ptMinDist2.y]\n",
        "\n",
        "  ax.plot(xSeg1, ySeg1, '-', label=classes[0])\n",
        "  ax.plot(xSeg2, ySeg2, '-', label=classes[1])\n",
        "  ax.plot(pMedio.x, pMedio.y, '.')\n",
        "  ax.plot(xRetaMin, yRetaMin, '-', linewidth=3)\n",
        "  ax.plot(f, eqModelo, '-', c='red', linewidth=2)\n",
        "  plt.xlabel(atributos[0])\n",
        "  plt.ylabel(atributos[1])\n",
        "  plt.legend()\n",
        "  plt.show()\n",
        "\n"
      ]
    },
    {
      "cell_type": "code",
      "execution_count": 278,
      "metadata": {},
      "outputs": [],
      "source": [
        "def checaSeparalidade(df, dfTeste, classe):\n",
        "    atributos = df.columns.tolist()\n",
        "    atributos.remove(classe)\n",
        "\n",
        "    combAtributos = list(combinations(atributos, 2))\n",
        "\n",
        "    classes = df[classe].unique()\n",
        "\n",
        "    combClasses = list(combinations(classes, 2))\n",
        "\n",
        "    for n in combAtributos:\n",
        "        dfAtributos = df.loc[:,[n[0], n[1], classe]]\n",
        "        for i in combClasses:\n",
        "            dfClasse1 = dfAtributos.loc[dfAtributos[classe] == i[0]]\n",
        "            dfClasse2 = dfAtributos.loc[dfAtributos[classe] == i[1]]\n",
        "\n",
        "            envoltoria1 = EvoltoriaDaClasse(dfClasse1, n[0], n[1])\n",
        "            envoltoria2 = EvoltoriaDaClasse(dfClasse2, n[0], n[1])\n",
        "\n",
        "            # Criamos os segmentos para as envoltórias\n",
        "            segmentos1 = construtorSeg(envoltoria1, 0)\n",
        "            segmentos2 = construtorSeg(envoltoria2, 1)\n",
        "\n",
        "            # Checamos se uma está dentro da outra\n",
        "            if  envDentroEnv(segmentos1, segmentos2) or (varreduraSeg(segmentos1, segmentos2)):\n",
        "                continue\n",
        "            else:\n",
        "                print(n[0] + \" e \" + n[1] +\" são dados linearmente separáveis\\n\")\n",
        "                return retaClassificadora(segmentos1, segmentos2, envoltoria1, envoltoria2, i, n, dfTeste)\n",
        "\n",
        "    print(\"Os dados não são linearmente separáveis\")"
      ]
    },
    {
      "cell_type": "markdown",
      "metadata": {},
      "source": [
        "**Iris Dataset**"
      ]
    },
    {
      "cell_type": "code",
      "execution_count": 279,
      "metadata": {},
      "outputs": [
        {
          "data": {
            "text/html": [
              "<div>\n",
              "<style scoped>\n",
              "    .dataframe tbody tr th:only-of-type {\n",
              "        vertical-align: middle;\n",
              "    }\n",
              "\n",
              "    .dataframe tbody tr th {\n",
              "        vertical-align: top;\n",
              "    }\n",
              "\n",
              "    .dataframe thead th {\n",
              "        text-align: right;\n",
              "    }\n",
              "</style>\n",
              "<table border=\"1\" class=\"dataframe\">\n",
              "  <thead>\n",
              "    <tr style=\"text-align: right;\">\n",
              "      <th></th>\n",
              "      <th>SepalLength</th>\n",
              "      <th>SepalWidth</th>\n",
              "      <th>PetalLength</th>\n",
              "      <th>PetalWidth</th>\n",
              "      <th>Class</th>\n",
              "    </tr>\n",
              "  </thead>\n",
              "  <tbody>\n",
              "    <tr>\n",
              "      <th>0</th>\n",
              "      <td>5.1</td>\n",
              "      <td>3.5</td>\n",
              "      <td>1.4</td>\n",
              "      <td>0.2</td>\n",
              "      <td>Iris-setosa</td>\n",
              "    </tr>\n",
              "    <tr>\n",
              "      <th>1</th>\n",
              "      <td>4.9</td>\n",
              "      <td>3.0</td>\n",
              "      <td>1.4</td>\n",
              "      <td>0.2</td>\n",
              "      <td>Iris-setosa</td>\n",
              "    </tr>\n",
              "    <tr>\n",
              "      <th>2</th>\n",
              "      <td>4.6</td>\n",
              "      <td>3.1</td>\n",
              "      <td>1.5</td>\n",
              "      <td>0.2</td>\n",
              "      <td>Iris-setosa</td>\n",
              "    </tr>\n",
              "    <tr>\n",
              "      <th>3</th>\n",
              "      <td>5.0</td>\n",
              "      <td>3.6</td>\n",
              "      <td>1.4</td>\n",
              "      <td>0.2</td>\n",
              "      <td>Iris-setosa</td>\n",
              "    </tr>\n",
              "    <tr>\n",
              "      <th>4</th>\n",
              "      <td>5.4</td>\n",
              "      <td>3.9</td>\n",
              "      <td>1.7</td>\n",
              "      <td>0.4</td>\n",
              "      <td>Iris-setosa</td>\n",
              "    </tr>\n",
              "  </tbody>\n",
              "</table>\n",
              "</div>"
            ],
            "text/plain": [
              "   SepalLength  SepalWidth  PetalLength  PetalWidth        Class\n",
              "0          5.1         3.5          1.4         0.2  Iris-setosa\n",
              "1          4.9         3.0          1.4         0.2  Iris-setosa\n",
              "2          4.6         3.1          1.5         0.2  Iris-setosa\n",
              "3          5.0         3.6          1.4         0.2  Iris-setosa\n",
              "4          5.4         3.9          1.7         0.4  Iris-setosa"
            ]
          },
          "execution_count": 279,
          "metadata": {},
          "output_type": "execute_result"
        }
      ],
      "source": [
        "# Importando o arquivo .csv do dataset\n",
        "url = 'https://raw.githubusercontent.com/IvanAssis07/TP_ICD/main/iris.csv'\n",
        "df = pd.read_csv(url)\n",
        "df.head()"
      ]
    },
    {
      "cell_type": "code",
      "execution_count": 280,
      "metadata": {},
      "outputs": [
        {
          "name": "stdout",
          "output_type": "stream",
          "text": [
            "SepalLength e SepalWidth são dados linearmente separáveis\n",
            "\n",
            "A precisão é:0.8823529411764706\n",
            "A revocacao do modelo é:1.0\n",
            "O F1Score do modelo é:0.9375\n"
          ]
        },
        {
          "data": {
            "image/png": "[encoded data removed]",
            "text/plain": [
              "<Figure size 1152x720 with 1 Axes>"
            ]
          },
          "metadata": {
            "needs_background": "light"
          },
          "output_type": "display_data"
        }
      ],
      "source": [
        "#separando o treio e amostra\n",
        "dfTeste = df.sample(frac = 0.3)\n",
        "dfTreino = df.drop(df_teste.index)\n",
        "\n",
        "checaSeparalidade(dfTreino, dfTeste, 'Class')"
      ]
    },
    {
      "cell_type": "markdown",
      "metadata": {},
      "source": [
        "**Ring Dataset**"
      ]
    },
    {
      "cell_type": "code",
      "execution_count": 281,
      "metadata": {},
      "outputs": [
        {
          "data": {
            "text/html": [
              "<div>\n",
              "<style scoped>\n",
              "    .dataframe tbody tr th:only-of-type {\n",
              "        vertical-align: middle;\n",
              "    }\n",
              "\n",
              "    .dataframe tbody tr th {\n",
              "        vertical-align: top;\n",
              "    }\n",
              "\n",
              "    .dataframe thead th {\n",
              "        text-align: right;\n",
              "    }\n",
              "</style>\n",
              "<table border=\"1\" class=\"dataframe\">\n",
              "  <thead>\n",
              "    <tr style=\"text-align: right;\">\n",
              "      <th></th>\n",
              "      <th>A1</th>\n",
              "      <th>A2</th>\n",
              "      <th>A3</th>\n",
              "      <th>A4</th>\n",
              "      <th>A5</th>\n",
              "      <th>A6</th>\n",
              "      <th>A7</th>\n",
              "      <th>A8</th>\n",
              "      <th>A9</th>\n",
              "      <th>A10</th>\n",
              "      <th>...</th>\n",
              "      <th>A12</th>\n",
              "      <th>A13</th>\n",
              "      <th>A14</th>\n",
              "      <th>A15</th>\n",
              "      <th>A16</th>\n",
              "      <th>A17</th>\n",
              "      <th>A18</th>\n",
              "      <th>A19</th>\n",
              "      <th>A20</th>\n",
              "      <th>Class</th>\n",
              "    </tr>\n",
              "  </thead>\n",
              "  <tbody>\n",
              "    <tr>\n",
              "      <th>0</th>\n",
              "      <td>849.0</td>\n",
              "      <td>2177.0</td>\n",
              "      <td>598.0</td>\n",
              "      <td>1689.0</td>\n",
              "      <td>3114.0</td>\n",
              "      <td>-3406.0</td>\n",
              "      <td>3799.0</td>\n",
              "      <td>-2642.0</td>\n",
              "      <td>1578.0</td>\n",
              "      <td>-181.0</td>\n",
              "      <td>...</td>\n",
              "      <td>1633.0</td>\n",
              "      <td>4664.0</td>\n",
              "      <td>1081.0</td>\n",
              "      <td>-1172.0</td>\n",
              "      <td>-166.0</td>\n",
              "      <td>578.0</td>\n",
              "      <td>1664.0</td>\n",
              "      <td>309.0</td>\n",
              "      <td>-3028.0</td>\n",
              "      <td>0</td>\n",
              "    </tr>\n",
              "    <tr>\n",
              "      <th>1</th>\n",
              "      <td>947.0</td>\n",
              "      <td>543.0</td>\n",
              "      <td>782.0</td>\n",
              "      <td>-449.0</td>\n",
              "      <td>-8.0</td>\n",
              "      <td>1316.0</td>\n",
              "      <td>756.0</td>\n",
              "      <td>-61.0</td>\n",
              "      <td>1604.0</td>\n",
              "      <td>1686.0</td>\n",
              "      <td>...</td>\n",
              "      <td>-382.0</td>\n",
              "      <td>1259.0</td>\n",
              "      <td>608.0</td>\n",
              "      <td>-2292.0</td>\n",
              "      <td>1008.0</td>\n",
              "      <td>2687.0</td>\n",
              "      <td>-1422.0</td>\n",
              "      <td>-606.0</td>\n",
              "      <td>2374.0</td>\n",
              "      <td>1</td>\n",
              "    </tr>\n",
              "    <tr>\n",
              "      <th>2</th>\n",
              "      <td>759.0</td>\n",
              "      <td>-314.0</td>\n",
              "      <td>898.0</td>\n",
              "      <td>-1743.0</td>\n",
              "      <td>2003.0</td>\n",
              "      <td>1117.0</td>\n",
              "      <td>911.0</td>\n",
              "      <td>136.0</td>\n",
              "      <td>-489.0</td>\n",
              "      <td>-144.0</td>\n",
              "      <td>...</td>\n",
              "      <td>112.0</td>\n",
              "      <td>598.0</td>\n",
              "      <td>474.0</td>\n",
              "      <td>2026.0</td>\n",
              "      <td>1431.0</td>\n",
              "      <td>-336.0</td>\n",
              "      <td>79.0</td>\n",
              "      <td>1123.0</td>\n",
              "      <td>302.0</td>\n",
              "      <td>1</td>\n",
              "    </tr>\n",
              "    <tr>\n",
              "      <th>3</th>\n",
              "      <td>531.0</td>\n",
              "      <td>1374.0</td>\n",
              "      <td>517.0</td>\n",
              "      <td>1226.0</td>\n",
              "      <td>1122.0</td>\n",
              "      <td>-4.0</td>\n",
              "      <td>-1227.0</td>\n",
              "      <td>2277.0</td>\n",
              "      <td>1083.0</td>\n",
              "      <td>888.0</td>\n",
              "      <td>...</td>\n",
              "      <td>1063.0</td>\n",
              "      <td>2454.0</td>\n",
              "      <td>587.0</td>\n",
              "      <td>-744.0</td>\n",
              "      <td>1216.0</td>\n",
              "      <td>916.0</td>\n",
              "      <td>-476.0</td>\n",
              "      <td>6.0</td>\n",
              "      <td>-477.0</td>\n",
              "      <td>1</td>\n",
              "    </tr>\n",
              "    <tr>\n",
              "      <th>4</th>\n",
              "      <td>-1443.0</td>\n",
              "      <td>1065.0</td>\n",
              "      <td>2071.0</td>\n",
              "      <td>207.0</td>\n",
              "      <td>-865.0</td>\n",
              "      <td>-786.0</td>\n",
              "      <td>2655.0</td>\n",
              "      <td>-366.0</td>\n",
              "      <td>971.0</td>\n",
              "      <td>-341.0</td>\n",
              "      <td>...</td>\n",
              "      <td>4195.0</td>\n",
              "      <td>-117.0</td>\n",
              "      <td>-2694.0</td>\n",
              "      <td>14.0</td>\n",
              "      <td>4097.0</td>\n",
              "      <td>1356.0</td>\n",
              "      <td>-944.0</td>\n",
              "      <td>-602.0</td>\n",
              "      <td>2348.0</td>\n",
              "      <td>0</td>\n",
              "    </tr>\n",
              "  </tbody>\n",
              "</table>\n",
              "<p>5 rows × 21 columns</p>\n",
              "</div>"
            ],
            "text/plain": [
              "       A1      A2      A3      A4      A5      A6      A7      A8      A9  \\\n",
              "0   849.0  2177.0   598.0  1689.0  3114.0 -3406.0  3799.0 -2642.0  1578.0   \n",
              "1   947.0   543.0   782.0  -449.0    -8.0  1316.0   756.0   -61.0  1604.0   \n",
              "2   759.0  -314.0   898.0 -1743.0  2003.0  1117.0   911.0   136.0  -489.0   \n",
              "3   531.0  1374.0   517.0  1226.0  1122.0    -4.0 -1227.0  2277.0  1083.0   \n",
              "4 -1443.0  1065.0  2071.0   207.0  -865.0  -786.0  2655.0  -366.0   971.0   \n",
              "\n",
              "      A10  ...     A12     A13     A14     A15     A16     A17     A18  \\\n",
              "0  -181.0  ...  1633.0  4664.0  1081.0 -1172.0  -166.0   578.0  1664.0   \n",
              "1  1686.0  ...  -382.0  1259.0   608.0 -2292.0  1008.0  2687.0 -1422.0   \n",
              "2  -144.0  ...   112.0   598.0   474.0  2026.0  1431.0  -336.0    79.0   \n",
              "3   888.0  ...  1063.0  2454.0   587.0  -744.0  1216.0   916.0  -476.0   \n",
              "4  -341.0  ...  4195.0  -117.0 -2694.0    14.0  4097.0  1356.0  -944.0   \n",
              "\n",
              "      A19     A20  Class  \n",
              "0   309.0 -3028.0      0  \n",
              "1  -606.0  2374.0      1  \n",
              "2  1123.0   302.0      1  \n",
              "3     6.0  -477.0      1  \n",
              "4  -602.0  2348.0      0  \n",
              "\n",
              "[5 rows x 21 columns]"
            ]
          },
          "execution_count": 281,
          "metadata": {},
          "output_type": "execute_result"
        }
      ],
      "source": [
        "# Importando o arquivo .csv do dataset\n",
        "url = 'https://raw.githubusercontent.com/IvanAssis07/TP_ICD/main/ring.csv'\n",
        "df = pd.read_csv(url)\n",
        "df.head()"
      ]
    },
    {
      "cell_type": "code",
      "execution_count": 282,
      "metadata": {},
      "outputs": [
        {
          "name": "stdout",
          "output_type": "stream",
          "text": [
            "Os dados não são linearmente separáveis\n"
          ]
        }
      ],
      "source": [
        "#separando o treio e amostra\n",
        "dfTeste = df.sample(frac = 0.3)\n",
        "dfTreino = df.drop(df_teste.index)\n",
        "checaSeparalidade(dfTreino, dfTeste, 'Class')"
      ]
    },
    {
      "cell_type": "markdown",
      "metadata": {},
      "source": [
        "**Hayes roth dataset**"
      ]
    },
    {
      "cell_type": "code",
      "execution_count": 283,
      "metadata": {},
      "outputs": [
        {
          "data": {
            "text/html": [
              "<div>\n",
              "<style scoped>\n",
              "    .dataframe tbody tr th:only-of-type {\n",
              "        vertical-align: middle;\n",
              "    }\n",
              "\n",
              "    .dataframe tbody tr th {\n",
              "        vertical-align: top;\n",
              "    }\n",
              "\n",
              "    .dataframe thead th {\n",
              "        text-align: right;\n",
              "    }\n",
              "</style>\n",
              "<table border=\"1\" class=\"dataframe\">\n",
              "  <thead>\n",
              "    <tr style=\"text-align: right;\">\n",
              "      <th></th>\n",
              "      <th>Hobby</th>\n",
              "      <th>Age</th>\n",
              "      <th>EducationalLevel</th>\n",
              "      <th>MaritalStatus</th>\n",
              "      <th>Class</th>\n",
              "    </tr>\n",
              "  </thead>\n",
              "  <tbody>\n",
              "    <tr>\n",
              "      <th>0</th>\n",
              "      <td>2</td>\n",
              "      <td>1</td>\n",
              "      <td>1</td>\n",
              "      <td>2</td>\n",
              "      <td>1</td>\n",
              "    </tr>\n",
              "    <tr>\n",
              "      <th>1</th>\n",
              "      <td>2</td>\n",
              "      <td>1</td>\n",
              "      <td>3</td>\n",
              "      <td>2</td>\n",
              "      <td>2</td>\n",
              "    </tr>\n",
              "    <tr>\n",
              "      <th>2</th>\n",
              "      <td>3</td>\n",
              "      <td>1</td>\n",
              "      <td>4</td>\n",
              "      <td>1</td>\n",
              "      <td>3</td>\n",
              "    </tr>\n",
              "    <tr>\n",
              "      <th>3</th>\n",
              "      <td>2</td>\n",
              "      <td>4</td>\n",
              "      <td>2</td>\n",
              "      <td>2</td>\n",
              "      <td>3</td>\n",
              "    </tr>\n",
              "    <tr>\n",
              "      <th>4</th>\n",
              "      <td>1</td>\n",
              "      <td>1</td>\n",
              "      <td>3</td>\n",
              "      <td>4</td>\n",
              "      <td>3</td>\n",
              "    </tr>\n",
              "  </tbody>\n",
              "</table>\n",
              "</div>"
            ],
            "text/plain": [
              "   Hobby  Age  EducationalLevel  MaritalStatus  Class\n",
              "0      2    1                 1              2      1\n",
              "1      2    1                 3              2      2\n",
              "2      3    1                 4              1      3\n",
              "3      2    4                 2              2      3\n",
              "4      1    1                 3              4      3"
            ]
          },
          "execution_count": 283,
          "metadata": {},
          "output_type": "execute_result"
        }
      ],
      "source": [
        "# Importando o arquivo .csv do dataset\n",
        "url = 'https://raw.githubusercontent.com/IvanAssis07/TP_ICD/main/hayes-roth.csv'\n",
        "df = pd.read_csv(url)\n",
        "df.head()"
      ]
    },
    {
      "cell_type": "code",
      "execution_count": 284,
      "metadata": {},
      "outputs": [
        {
          "name": "stdout",
          "output_type": "stream",
          "text": [
            "Os dados não são linearmente separáveis\n"
          ]
        }
      ],
      "source": [
        "#separando o treio e amostra\n",
        "dfTeste = df.sample(frac = 0.3)\n",
        "dfTreino = df.drop(df_teste.index)\n",
        "checaSeparalidade(dfTreino, dfTeste, 'Class')"
      ]
    },
    {
      "cell_type": "markdown",
      "metadata": {},
      "source": [
        "**Titanic dataset**"
      ]
    },
    {
      "cell_type": "code",
      "execution_count": 285,
      "metadata": {},
      "outputs": [
        {
          "data": {
            "text/html": [
              "<div>\n",
              "<style scoped>\n",
              "    .dataframe tbody tr th:only-of-type {\n",
              "        vertical-align: middle;\n",
              "    }\n",
              "\n",
              "    .dataframe tbody tr th {\n",
              "        vertical-align: top;\n",
              "    }\n",
              "\n",
              "    .dataframe thead th {\n",
              "        text-align: right;\n",
              "    }\n",
              "</style>\n",
              "<table border=\"1\" class=\"dataframe\">\n",
              "  <thead>\n",
              "    <tr style=\"text-align: right;\">\n",
              "      <th></th>\n",
              "      <th>Class</th>\n",
              "      <th>Age</th>\n",
              "      <th>Sex</th>\n",
              "      <th>Survived</th>\n",
              "    </tr>\n",
              "  </thead>\n",
              "  <tbody>\n",
              "    <tr>\n",
              "      <th>0</th>\n",
              "      <td>-1.8700</td>\n",
              "      <td>-0.228</td>\n",
              "      <td>0.521</td>\n",
              "      <td>-1.0</td>\n",
              "    </tr>\n",
              "    <tr>\n",
              "      <th>1</th>\n",
              "      <td>-0.9230</td>\n",
              "      <td>-0.228</td>\n",
              "      <td>-1.920</td>\n",
              "      <td>1.0</td>\n",
              "    </tr>\n",
              "    <tr>\n",
              "      <th>2</th>\n",
              "      <td>-0.9230</td>\n",
              "      <td>-0.228</td>\n",
              "      <td>-1.920</td>\n",
              "      <td>1.0</td>\n",
              "    </tr>\n",
              "    <tr>\n",
              "      <th>3</th>\n",
              "      <td>0.9650</td>\n",
              "      <td>-0.228</td>\n",
              "      <td>0.521</td>\n",
              "      <td>1.0</td>\n",
              "    </tr>\n",
              "    <tr>\n",
              "      <th>4</th>\n",
              "      <td>0.0214</td>\n",
              "      <td>-0.228</td>\n",
              "      <td>0.521</td>\n",
              "      <td>-1.0</td>\n",
              "    </tr>\n",
              "  </tbody>\n",
              "</table>\n",
              "</div>"
            ],
            "text/plain": [
              "    Class    Age    Sex  Survived\n",
              "0 -1.8700 -0.228  0.521      -1.0\n",
              "1 -0.9230 -0.228 -1.920       1.0\n",
              "2 -0.9230 -0.228 -1.920       1.0\n",
              "3  0.9650 -0.228  0.521       1.0\n",
              "4  0.0214 -0.228  0.521      -1.0"
            ]
          },
          "execution_count": 285,
          "metadata": {},
          "output_type": "execute_result"
        }
      ],
      "source": [
        "# Importando o arquivo .csv do dataset\n",
        "url = 'https://raw.githubusercontent.com/IvanAssis07/TP_ICD/main/titanic.csv'\n",
        "df = pd.read_csv(url)\n",
        "df.head()"
      ]
    },
    {
      "cell_type": "code",
      "execution_count": 286,
      "metadata": {},
      "outputs": [
        {
          "name": "stdout",
          "output_type": "stream",
          "text": [
            "Os dados não são linearmente separáveis\n"
          ]
        }
      ],
      "source": [
        "#separando o treio e amostra\n",
        "dfTeste = df.sample(frac = 0.3)\n",
        "dfTreino = df.drop(df_teste.index)\n",
        "checaSeparalidade(dfTreino, dfTeste, 'Survived')"
      ]
    },
    {
      "cell_type": "markdown",
      "metadata": {},
      "source": [
        "**Page blocks dataset**"
      ]
    },
    {
      "cell_type": "code",
      "execution_count": 287,
      "metadata": {},
      "outputs": [
        {
          "data": {
            "text/html": [
              "<div>\n",
              "<style scoped>\n",
              "    .dataframe tbody tr th:only-of-type {\n",
              "        vertical-align: middle;\n",
              "    }\n",
              "\n",
              "    .dataframe tbody tr th {\n",
              "        vertical-align: top;\n",
              "    }\n",
              "\n",
              "    .dataframe thead th {\n",
              "        text-align: right;\n",
              "    }\n",
              "</style>\n",
              "<table border=\"1\" class=\"dataframe\">\n",
              "  <thead>\n",
              "    <tr style=\"text-align: right;\">\n",
              "      <th></th>\n",
              "      <th>Height</th>\n",
              "      <th>Lenght</th>\n",
              "      <th>Area</th>\n",
              "      <th>Eccen</th>\n",
              "      <th>P_black</th>\n",
              "      <th>P_and</th>\n",
              "      <th>Mean_tr</th>\n",
              "      <th>Blackpix</th>\n",
              "      <th>Blackand</th>\n",
              "      <th>Wb_trans</th>\n",
              "      <th>Class</th>\n",
              "    </tr>\n",
              "  </thead>\n",
              "  <tbody>\n",
              "    <tr>\n",
              "      <th>0</th>\n",
              "      <td>5</td>\n",
              "      <td>7</td>\n",
              "      <td>35</td>\n",
              "      <td>1.400</td>\n",
              "      <td>0.400</td>\n",
              "      <td>0.657</td>\n",
              "      <td>2.33</td>\n",
              "      <td>14</td>\n",
              "      <td>23</td>\n",
              "      <td>6</td>\n",
              "      <td>1</td>\n",
              "    </tr>\n",
              "    <tr>\n",
              "      <th>1</th>\n",
              "      <td>6</td>\n",
              "      <td>7</td>\n",
              "      <td>42</td>\n",
              "      <td>1.167</td>\n",
              "      <td>0.429</td>\n",
              "      <td>0.881</td>\n",
              "      <td>3.60</td>\n",
              "      <td>18</td>\n",
              "      <td>37</td>\n",
              "      <td>5</td>\n",
              "      <td>1</td>\n",
              "    </tr>\n",
              "    <tr>\n",
              "      <th>2</th>\n",
              "      <td>6</td>\n",
              "      <td>18</td>\n",
              "      <td>108</td>\n",
              "      <td>3.000</td>\n",
              "      <td>0.287</td>\n",
              "      <td>0.741</td>\n",
              "      <td>4.43</td>\n",
              "      <td>31</td>\n",
              "      <td>80</td>\n",
              "      <td>7</td>\n",
              "      <td>1</td>\n",
              "    </tr>\n",
              "    <tr>\n",
              "      <th>3</th>\n",
              "      <td>5</td>\n",
              "      <td>7</td>\n",
              "      <td>35</td>\n",
              "      <td>1.400</td>\n",
              "      <td>0.371</td>\n",
              "      <td>0.743</td>\n",
              "      <td>4.33</td>\n",
              "      <td>13</td>\n",
              "      <td>26</td>\n",
              "      <td>3</td>\n",
              "      <td>1</td>\n",
              "    </tr>\n",
              "    <tr>\n",
              "      <th>4</th>\n",
              "      <td>6</td>\n",
              "      <td>3</td>\n",
              "      <td>18</td>\n",
              "      <td>500.000</td>\n",
              "      <td>0.500</td>\n",
              "      <td>0.944</td>\n",
              "      <td>2.25</td>\n",
              "      <td>9</td>\n",
              "      <td>17</td>\n",
              "      <td>4</td>\n",
              "      <td>1</td>\n",
              "    </tr>\n",
              "  </tbody>\n",
              "</table>\n",
              "</div>"
            ],
            "text/plain": [
              "   Height  Lenght  Area    Eccen  P_black  P_and  Mean_tr  Blackpix  Blackand  \\\n",
              "0       5       7    35    1.400    0.400  0.657     2.33        14        23   \n",
              "1       6       7    42    1.167    0.429  0.881     3.60        18        37   \n",
              "2       6      18   108    3.000    0.287  0.741     4.43        31        80   \n",
              "3       5       7    35    1.400    0.371  0.743     4.33        13        26   \n",
              "4       6       3    18  500.000    0.500  0.944     2.25         9        17   \n",
              "\n",
              "   Wb_trans  Class  \n",
              "0         6      1  \n",
              "1         5      1  \n",
              "2         7      1  \n",
              "3         3      1  \n",
              "4         4      1  "
            ]
          },
          "execution_count": 287,
          "metadata": {},
          "output_type": "execute_result"
        }
      ],
      "source": [
        "# Importando o arquivo .csv do dataset\n",
        "url = 'https://raw.githubusercontent.com/IvanAssis07/TP_ICD/main/page-blocks.csv'\n",
        "df = pd.read_csv(url)\n",
        "df.head()"
      ]
    },
    {
      "cell_type": "code",
      "execution_count": 288,
      "metadata": {},
      "outputs": [
        {
          "name": "stdout",
          "output_type": "stream",
          "text": [
            "Height e Lenght são dados linearmente separáveis\n",
            "\n",
            "A precisão é:0.5769230769230769\n",
            "A revocacao do modelo é:0.4838709677419355\n",
            "O F1Score do modelo é:0.5263157894736842\n"
          ]
        },
        {
          "data": {
            "image/png": "[encoded data removed]",
            "text/plain": [
              "<Figure size 1152x720 with 1 Axes>"
            ]
          },
          "metadata": {
            "needs_background": "light"
          },
          "output_type": "display_data"
        }
      ],
      "source": [
        "#separando o treio e amostra\n",
        "dfTeste = df.sample(frac = 0.3)\n",
        "dfTreino = df.drop(df_teste.index)\n",
        "checaSeparalidade(dfTreino, dfTeste, 'Class')"
      ]
    }
  ],
  "metadata": {
    "colab": {
      "collapsed_sections": [
        "bsKrXOgSBEhk",
        "UvWtlpjFDesk",
        "HnNmk4nrwSSF",
        "8xk8gdg_yf1B",
        "aU92KI8-jQvx"
      ],
      "provenance": []
    },
    "kernelspec": {
      "display_name": "Python 3.8.10 64-bit",
      "language": "python",
      "name": "python3"
    },
    "language_info": {
      "codemirror_mode": {
        "name": "ipython",
        "version": 3
      },
      "file_extension": ".py",
      "mimetype": "text/x-python",
      "name": "python",
      "nbconvert_exporter": "python",
      "pygments_lexer": "ipython3",
      "version": "3.8.10"
    },
    "vscode": {
      "interpreter": {
        "hash": "916dbcbb3f70747c44a77c7bcd40155683ae19c65e1c03b4aa3499c5328201f1"
      }
    }
  },
  "nbformat": 4,
  "nbformat_minor": 0
}
